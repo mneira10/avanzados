{
 "cells": [
  {
   "cell_type": "code",
   "execution_count": 81,
   "metadata": {},
   "outputs": [],
   "source": [
    "import numpy as np \n",
    "import matplotlib.pyplot as plt\n",
    "import pandas as pd\n",
    "from numpy import linalg as LA"
   ]
  },
  {
   "cell_type": "markdown",
   "metadata": {},
   "source": [
    "# Preclase"
   ]
  },
  {
   "cell_type": "code",
   "execution_count": 82,
   "metadata": {},
   "outputs": [],
   "source": [
    "data = pd.read_csv(\"./USArrests.csv\")"
   ]
  },
  {
   "cell_type": "code",
   "execution_count": 83,
   "metadata": {},
   "outputs": [
    {
     "name": "stdout",
     "output_type": "stream",
     "text": [
      "Index(['Murder', 'Assault', 'UrbanPop', 'Rape'], dtype='object')\n"
     ]
    }
   ],
   "source": [
    "feats= data.columns[1:]\n",
    "print(feats)"
   ]
  },
  {
   "cell_type": "code",
   "execution_count": 84,
   "metadata": {},
   "outputs": [
    {
     "data": {
      "text/html": [
       "<div>\n",
       "<style scoped>\n",
       "    .dataframe tbody tr th:only-of-type {\n",
       "        vertical-align: middle;\n",
       "    }\n",
       "\n",
       "    .dataframe tbody tr th {\n",
       "        vertical-align: top;\n",
       "    }\n",
       "\n",
       "    .dataframe thead th {\n",
       "        text-align: right;\n",
       "    }\n",
       "</style>\n",
       "<table border=\"1\" class=\"dataframe\">\n",
       "  <thead>\n",
       "    <tr style=\"text-align: right;\">\n",
       "      <th></th>\n",
       "      <th>Unnamed: 0</th>\n",
       "      <th>Murder</th>\n",
       "      <th>Assault</th>\n",
       "      <th>UrbanPop</th>\n",
       "      <th>Rape</th>\n",
       "    </tr>\n",
       "  </thead>\n",
       "  <tbody>\n",
       "    <tr>\n",
       "      <th>0</th>\n",
       "      <td>Alabama</td>\n",
       "      <td>13.2</td>\n",
       "      <td>236</td>\n",
       "      <td>58</td>\n",
       "      <td>21.2</td>\n",
       "    </tr>\n",
       "    <tr>\n",
       "      <th>1</th>\n",
       "      <td>Alaska</td>\n",
       "      <td>10.0</td>\n",
       "      <td>263</td>\n",
       "      <td>48</td>\n",
       "      <td>44.5</td>\n",
       "    </tr>\n",
       "    <tr>\n",
       "      <th>2</th>\n",
       "      <td>Arizona</td>\n",
       "      <td>8.1</td>\n",
       "      <td>294</td>\n",
       "      <td>80</td>\n",
       "      <td>31.0</td>\n",
       "    </tr>\n",
       "    <tr>\n",
       "      <th>3</th>\n",
       "      <td>Arkansas</td>\n",
       "      <td>8.8</td>\n",
       "      <td>190</td>\n",
       "      <td>50</td>\n",
       "      <td>19.5</td>\n",
       "    </tr>\n",
       "    <tr>\n",
       "      <th>4</th>\n",
       "      <td>California</td>\n",
       "      <td>9.0</td>\n",
       "      <td>276</td>\n",
       "      <td>91</td>\n",
       "      <td>40.6</td>\n",
       "    </tr>\n",
       "  </tbody>\n",
       "</table>\n",
       "</div>"
      ],
      "text/plain": [
       "   Unnamed: 0  Murder  Assault  UrbanPop  Rape\n",
       "0     Alabama    13.2      236        58  21.2\n",
       "1      Alaska    10.0      263        48  44.5\n",
       "2     Arizona     8.1      294        80  31.0\n",
       "3    Arkansas     8.8      190        50  19.5\n",
       "4  California     9.0      276        91  40.6"
      ]
     },
     "execution_count": 84,
     "metadata": {},
     "output_type": "execute_result"
    }
   ],
   "source": [
    "data.head()"
   ]
  },
  {
   "cell_type": "markdown",
   "metadata": {},
   "source": [
    "## Normalize the columns to $\\mu_i = 0, \\sigma^2_i=1$"
   ]
  },
  {
   "cell_type": "code",
   "execution_count": 85,
   "metadata": {},
   "outputs": [],
   "source": [
    "data[feats]=(data[feats]-data[feats].mean())/data[feats].std()\n",
    "\n",
    "covMatr = np.array(data[feats].cov())\n",
    "w, v = LA.eig(covMatr)\n"
   ]
  },
  {
   "cell_type": "code",
   "execution_count": 86,
   "metadata": {},
   "outputs": [],
   "source": [
    "idx = w.argsort()[::-1]   \n",
    "w = w[idx]\n",
    "v = v[:,idx]"
   ]
  },
  {
   "cell_type": "code",
   "execution_count": 87,
   "metadata": {},
   "outputs": [
    {
     "name": "stdout",
     "output_type": "stream",
     "text": [
      "[2.48024158 0.98976515 0.35656318 0.17343009]\n",
      "[[ 0.53589947  0.41818087 -0.34123273  0.6492278 ]\n",
      " [ 0.58318363  0.1879856  -0.26814843 -0.74340748]\n",
      " [ 0.27819087 -0.87280619 -0.37801579  0.13387773]\n",
      " [ 0.54343209 -0.16731864  0.81777791  0.08902432]]\n"
     ]
    }
   ],
   "source": [
    "print(w)\n",
    "print(v)"
   ]
  },
  {
   "cell_type": "code",
   "execution_count": 88,
   "metadata": {},
   "outputs": [],
   "source": [
    "phi1 = v[:,0]\n",
    "phi2 = -v[:,1]"
   ]
  },
  {
   "cell_type": "code",
   "execution_count": 89,
   "metadata": {},
   "outputs": [],
   "source": [
    "def project(a,b):\n",
    "    return np.dot(a,b)/(np.sqrt(np.dot(a,a)))\n",
    "\n",
    "newCoords = []\n",
    "names= []\n",
    "for index, row in data.iterrows():\n",
    "#    print row['c1'], row['c2']\n",
    "    vect = (row[feats].values)\n",
    "#     newCoords.append([project(phi1,vect),project(phi2,vect),row[\"Unnamed: 0\"]])\n",
    "    newCoords.append([project(phi1,vect),project(phi2,vect)])\n",
    "    names.append(row[\"Unnamed: 0\"])\n",
    "newCoords = np.array(newCoords)"
   ]
  },
  {
   "cell_type": "code",
   "execution_count": 90,
   "metadata": {},
   "outputs": [
    {
     "data": {
      "text/plain": [
       "Text(0,0.5,'Second principal component')"
      ]
     },
     "execution_count": 90,
     "metadata": {},
     "output_type": "execute_result"
    },
    {
     "data": {
      "image/png": "[encoded data removed]",
      "text/plain": [
       "<matplotlib.figure.Figure at 0x7f5829bd8e80>"
      ]
     },
     "metadata": {},
     "output_type": "display_data"
    }
   ],
   "source": [
    "fig = plt.figure(figsize=(15,10))\n",
    "for i in range(len(names)):\n",
    "    plt.text(newCoords[:,0][i],newCoords[:,1][i],names[i],fontsize = 10,color=\"#4574BA\")\n",
    "plt.xlim(-3,3.3)\n",
    "plt.ylim(-3,3)\n",
    "\n",
    "scalingFactor = 2.5\n",
    "\n",
    "for i in range(len(phi1)):\n",
    "#     print(phi1[i],phi2[i])\n",
    "    plt.arrow(0, 0, phi1[i]*scalingFactor, phi2[i]*scalingFactor, head_width=0.05, head_length=0.1, ec='#CD5218',fc='#CD5218')\n",
    "    plt.text(phi1[i]*scalingFactor + 0.1,phi2[i]*scalingFactor+0.1,feats[i],color='#CD5218',fontsize=15)\n",
    "    \n",
    "plt.xlabel(\"First principal component\")\n",
    "plt.ylabel(\"Second principal component\")"
   ]
  },
  {
   "cell_type": "code",
   "execution_count": 91,
   "metadata": {},
   "outputs": [],
   "source": [
    "def pve(m,v,data):\n",
    "#     ans = 0\n",
    "#     assert(len(data.columns)==len(v[:,0]))\n",
    "    return sum(data.dot(v[:,m])**2)/len(data)\n",
    "def totVar(v,data):\n",
    "    ans =0\n",
    "    for i in range(len(data.columns)):\n",
    "        ans+= sum(data.iloc[:,i]**2)/len(data)\n",
    "    return ans"
   ]
  },
  {
   "cell_type": "code",
   "execution_count": 92,
   "metadata": {},
   "outputs": [
    {
     "data": {
      "text/plain": [
       "2.430636747566503"
      ]
     },
     "execution_count": 92,
     "metadata": {},
     "output_type": "execute_result"
    }
   ],
   "source": [
    "pve(0,v,data[feats])"
   ]
  },
  {
   "cell_type": "code",
   "execution_count": 93,
   "metadata": {},
   "outputs": [
    {
     "data": {
      "text/plain": [
       "3.92"
      ]
     },
     "execution_count": 93,
     "metadata": {},
     "output_type": "execute_result"
    }
   ],
   "source": [
    "totVar(v,data[feats])"
   ]
  },
  {
   "cell_type": "code",
   "execution_count": 94,
   "metadata": {},
   "outputs": [],
   "source": [
    "PVE = []\n",
    "for i in range(len(data[feats].columns)):\n",
    "    PVE.append(pve(i,v,data[feats])/totVar(v,data[feats]))"
   ]
  },
  {
   "cell_type": "code",
   "execution_count": 95,
   "metadata": {},
   "outputs": [
    {
     "data": {
      "text/plain": [
       "(0, 1.1)"
      ]
     },
     "execution_count": 95,
     "metadata": {},
     "output_type": "execute_result"
    },
    {
     "data": {
      "image/png": "[encoded data removed]",
      "text/plain": [
       "<matplotlib.figure.Figure at 0x7f5829bd8438>"
      ]
     },
     "metadata": {},
     "output_type": "display_data"
    }
   ],
   "source": [
    "fig = plt.figure(figsize=(12,4))\n",
    "plt.subplot(1,2,1)\n",
    "plt.plot([1,2,3,4],PVE,linewidth = 1,c=\"#373F9E\")\n",
    "plt.scatter([1,2,3,4],PVE,linewidth = 1,edgecolors='#373F9E', facecolors='none')\n",
    "plt.xlabel(\"Principal component\")\n",
    "plt.ylabel(\"Prop. Variance Explained\")\n",
    "plt.ylim(0,1.1)\n",
    "\n",
    "\n",
    "PVE= np.array(PVE)\n",
    "cumulativePVE = np.cumsum(PVE)\n",
    "\n",
    "\n",
    "plt.subplot(1,2,2)\n",
    "plt.plot([1,2,3,4],cumulativePVE,linewidth = 1,c='#373F9E')\n",
    "plt.scatter([1,2,3,4],cumulativePVE,linewidth = 1,edgecolors='#373F9E', facecolors='none')\n",
    "plt.xlabel(\"Principal component\")\n",
    "plt.ylabel(\"Cumulative Prop. Variance Explained\")\n",
    "plt.ylim(0,1.1)"
   ]
  },
  {
   "cell_type": "markdown",
   "metadata": {},
   "source": [
    "# En clase"
   ]
  },
  {
   "cell_type": "code",
   "execution_count": 96,
   "metadata": {},
   "outputs": [],
   "source": [
    "cars = pd.read_csv('Cars93.csv')"
   ]
  },
  {
   "cell_type": "code",
   "execution_count": 97,
   "metadata": {},
   "outputs": [],
   "source": [
    "feats = ['MPG.highway', 'Cylinders', 'EngineSize', 'Horsepower', 'RPM', 'Rev.per.mile', 'Fuel.tank.capacity', 'Length', 'Wheelbase', 'Width', 'Turn.circle', 'Rear.seat.room', 'Luggage.room', 'Weight']"
   ]
  },
  {
   "cell_type": "code",
   "execution_count": 98,
   "metadata": {},
   "outputs": [],
   "source": [
    "cars = cars[feats]"
   ]
  },
  {
   "cell_type": "code",
   "execution_count": 99,
   "metadata": {},
   "outputs": [],
   "source": [
    "cars = cars.dropna()"
   ]
  },
  {
   "cell_type": "code",
   "execution_count": 100,
   "metadata": {},
   "outputs": [
    {
     "data": {
      "text/html": [
       "<div>\n",
       "<style scoped>\n",
       "    .dataframe tbody tr th:only-of-type {\n",
       "        vertical-align: middle;\n",
       "    }\n",
       "\n",
       "    .dataframe tbody tr th {\n",
       "        vertical-align: top;\n",
       "    }\n",
       "\n",
       "    .dataframe thead th {\n",
       "        text-align: right;\n",
       "    }\n",
       "</style>\n",
       "<table border=\"1\" class=\"dataframe\">\n",
       "  <thead>\n",
       "    <tr style=\"text-align: right;\">\n",
       "      <th></th>\n",
       "      <th>MPG.highway</th>\n",
       "      <th>Cylinders</th>\n",
       "      <th>EngineSize</th>\n",
       "      <th>Horsepower</th>\n",
       "      <th>RPM</th>\n",
       "      <th>Rev.per.mile</th>\n",
       "      <th>Fuel.tank.capacity</th>\n",
       "      <th>Length</th>\n",
       "      <th>Wheelbase</th>\n",
       "      <th>Width</th>\n",
       "      <th>Turn.circle</th>\n",
       "      <th>Rear.seat.room</th>\n",
       "      <th>Luggage.room</th>\n",
       "      <th>Weight</th>\n",
       "    </tr>\n",
       "  </thead>\n",
       "  <tbody>\n",
       "    <tr>\n",
       "      <th>0</th>\n",
       "      <td>31</td>\n",
       "      <td>4</td>\n",
       "      <td>1.8</td>\n",
       "      <td>140</td>\n",
       "      <td>6300</td>\n",
       "      <td>2890</td>\n",
       "      <td>13.2</td>\n",
       "      <td>177</td>\n",
       "      <td>102</td>\n",
       "      <td>68</td>\n",
       "      <td>37</td>\n",
       "      <td>26.5</td>\n",
       "      <td>11.0</td>\n",
       "      <td>2705</td>\n",
       "    </tr>\n",
       "    <tr>\n",
       "      <th>1</th>\n",
       "      <td>25</td>\n",
       "      <td>6</td>\n",
       "      <td>3.2</td>\n",
       "      <td>200</td>\n",
       "      <td>5500</td>\n",
       "      <td>2335</td>\n",
       "      <td>18.0</td>\n",
       "      <td>195</td>\n",
       "      <td>115</td>\n",
       "      <td>71</td>\n",
       "      <td>38</td>\n",
       "      <td>30.0</td>\n",
       "      <td>15.0</td>\n",
       "      <td>3560</td>\n",
       "    </tr>\n",
       "    <tr>\n",
       "      <th>2</th>\n",
       "      <td>26</td>\n",
       "      <td>6</td>\n",
       "      <td>2.8</td>\n",
       "      <td>172</td>\n",
       "      <td>5500</td>\n",
       "      <td>2280</td>\n",
       "      <td>16.9</td>\n",
       "      <td>180</td>\n",
       "      <td>102</td>\n",
       "      <td>67</td>\n",
       "      <td>37</td>\n",
       "      <td>28.0</td>\n",
       "      <td>14.0</td>\n",
       "      <td>3375</td>\n",
       "    </tr>\n",
       "    <tr>\n",
       "      <th>3</th>\n",
       "      <td>26</td>\n",
       "      <td>6</td>\n",
       "      <td>2.8</td>\n",
       "      <td>172</td>\n",
       "      <td>5500</td>\n",
       "      <td>2535</td>\n",
       "      <td>21.1</td>\n",
       "      <td>193</td>\n",
       "      <td>106</td>\n",
       "      <td>70</td>\n",
       "      <td>37</td>\n",
       "      <td>31.0</td>\n",
       "      <td>17.0</td>\n",
       "      <td>3405</td>\n",
       "    </tr>\n",
       "    <tr>\n",
       "      <th>4</th>\n",
       "      <td>30</td>\n",
       "      <td>4</td>\n",
       "      <td>3.5</td>\n",
       "      <td>208</td>\n",
       "      <td>5700</td>\n",
       "      <td>2545</td>\n",
       "      <td>21.1</td>\n",
       "      <td>186</td>\n",
       "      <td>109</td>\n",
       "      <td>69</td>\n",
       "      <td>39</td>\n",
       "      <td>27.0</td>\n",
       "      <td>13.0</td>\n",
       "      <td>3640</td>\n",
       "    </tr>\n",
       "  </tbody>\n",
       "</table>\n",
       "</div>"
      ],
      "text/plain": [
       "   MPG.highway Cylinders  EngineSize  Horsepower   RPM  Rev.per.mile  \\\n",
       "0           31         4         1.8         140  6300          2890   \n",
       "1           25         6         3.2         200  5500          2335   \n",
       "2           26         6         2.8         172  5500          2280   \n",
       "3           26         6         2.8         172  5500          2535   \n",
       "4           30         4         3.5         208  5700          2545   \n",
       "\n",
       "   Fuel.tank.capacity  Length  Wheelbase  Width  Turn.circle  Rear.seat.room  \\\n",
       "0                13.2     177        102     68           37            26.5   \n",
       "1                18.0     195        115     71           38            30.0   \n",
       "2                16.9     180        102     67           37            28.0   \n",
       "3                21.1     193        106     70           37            31.0   \n",
       "4                21.1     186        109     69           39            27.0   \n",
       "\n",
       "   Luggage.room  Weight  \n",
       "0          11.0    2705  \n",
       "1          15.0    3560  \n",
       "2          14.0    3375  \n",
       "3          17.0    3405  \n",
       "4          13.0    3640  "
      ]
     },
     "execution_count": 100,
     "metadata": {},
     "output_type": "execute_result"
    }
   ],
   "source": [
    "cars.head()"
   ]
  },
  {
   "cell_type": "code",
   "execution_count": 101,
   "metadata": {},
   "outputs": [],
   "source": [
    "cars.Cylinders = cars.Cylinders.astype(float)\n"
   ]
  },
  {
   "cell_type": "code",
   "execution_count": 102,
   "metadata": {},
   "outputs": [],
   "source": [
    "cars = (cars-cars.mean())/cars.std()"
   ]
  },
  {
   "cell_type": "code",
   "execution_count": 103,
   "metadata": {},
   "outputs": [],
   "source": [
    "covMatr = np.array(cars.cov())\n",
    "w, v = LA.eig(covMatr)"
   ]
  },
  {
   "cell_type": "code",
   "execution_count": 104,
   "metadata": {},
   "outputs": [
    {
     "name": "stdout",
     "output_type": "stream",
     "text": [
      "[9.63286452 1.39656565 0.86582751 0.4516857  0.39553517 0.34904148\n",
      " 0.2495615  0.20648003 0.15536953 0.09608184 0.078536   0.05953007\n",
      " 0.04016727 0.02275373]\n",
      "[[ 2.35416464e-01 -3.12763167e-01  1.57359912e-01 -7.58847637e-01\n",
      "  -2.22301955e-01 -1.17047340e-01  6.73454336e-02 -5.54742797e-02\n",
      "   3.43238212e-01 -6.72245556e-02  1.62733580e-01  6.82322484e-02\n",
      "  -1.29289335e-01  7.23199053e-02]\n",
      " [-2.80346516e-01  1.20919447e-01 -8.08435855e-02 -5.57561169e-02\n",
      "  -6.18247699e-01  8.44370039e-02  2.54198975e-01  1.17541076e-01\n",
      "  -3.94060059e-01 -2.02172757e-01  3.02531029e-01 -3.14992493e-01\n",
      "  -1.95211615e-01  6.58560394e-02]\n",
      " [-3.09426009e-01 -4.87688673e-04 -1.04082152e-01 -5.62823365e-02\n",
      "  -2.25199031e-01  2.66011385e-02  1.91960395e-01 -4.55966517e-02\n",
      "   2.18580151e-01  4.46814573e-02 -3.71520771e-02  1.01303563e-01\n",
      "   8.24110617e-01  2.43576940e-01]\n",
      " [-2.50942273e-01  4.77090785e-01  6.84441187e-02 -1.59910954e-01\n",
      "  -1.94895396e-01  1.38721151e-02  1.47088524e-01  1.60458749e-01\n",
      "   2.13314167e-01  3.45563434e-01 -1.33117292e-01  3.47768435e-01\n",
      "  -1.46172577e-01 -5.18315553e-01]\n",
      " [ 1.54484046e-01  5.67756816e-01  5.28665695e-01 -2.51343288e-01\n",
      "   6.43522528e-02  7.78954302e-02 -3.53651764e-01  1.30400510e-01\n",
      "  -1.90982282e-01 -1.18890244e-01  1.08361757e-02 -1.23040526e-01\n",
      "   2.24250752e-01  2.06613946e-01]\n",
      " [ 2.71719980e-01  6.69580415e-02  2.55267365e-01  3.95535820e-02\n",
      "   1.55264335e-01 -4.69093845e-01  7.06518430e-01  4.02678107e-02\n",
      "  -2.74188361e-01  1.24967540e-01 -8.89495460e-02  1.75296791e-02\n",
      "   6.85584356e-02  7.93562155e-02]\n",
      " [-2.82316477e-01  2.08757990e-01  1.13791782e-01  1.74145503e-01\n",
      "   1.58301786e-01 -4.30205107e-01  5.31038819e-02 -5.86769352e-02\n",
      "   4.93461436e-01 -5.30612333e-01  1.84629319e-01 -2.05551443e-01\n",
      "  -7.76047482e-02 -9.81217328e-02]\n",
      " [-2.99121445e-01 -7.50613818e-02  8.23410542e-02 -1.42716342e-01\n",
      "   2.79630067e-01 -5.85324348e-02 -5.48954866e-02 -3.28917016e-01\n",
      "  -3.92699156e-01 -9.03357680e-02  5.17398862e-01  4.74497255e-01\n",
      "   8.03103788e-02 -1.52489493e-01]\n",
      " [-2.96591773e-01 -8.33753884e-02  2.10892010e-01 -1.35863244e-01\n",
      "   9.94428881e-02 -5.32831978e-02 -4.33200755e-02 -4.82937085e-01\n",
      "  -1.92232718e-02  4.64240386e-01 -6.07472757e-02 -5.93711737e-01\n",
      "   1.23121193e-02 -1.48629212e-01]\n",
      " [-2.97760263e-01 -3.43080756e-02 -1.42515954e-01 -3.29008732e-01\n",
      "   6.74574328e-02 -1.31591259e-01 -3.38600538e-02 -1.13392481e-01\n",
      "  -2.83045959e-01 -3.86376202e-01 -7.10953762e-01  7.41625105e-02\n",
      "  -7.33200470e-02  6.10166592e-04]\n",
      " [-2.71799370e-01 -8.07556345e-02 -1.32268617e-01 -2.93984563e-01\n",
      "   5.43528294e-01  2.56492933e-01  2.10915428e-01  5.79638679e-01\n",
      "   1.06543903e-02  4.16142419e-02  1.29427395e-01 -2.34903057e-01\n",
      "   1.08305846e-02  1.05029940e-02]\n",
      " [-1.88801428e-01 -3.26333538e-01  6.70664459e-01  2.27562487e-01\n",
      "  -5.55371187e-02  4.59553451e-01  2.20850857e-01  5.66495580e-03\n",
      "   9.48135388e-02 -1.80518564e-01 -1.63936220e-01  1.30945163e-01\n",
      "  -8.47748047e-02 -2.04683948e-02]\n",
      " [-2.40863454e-01 -3.69930678e-01  2.38174797e-01  1.04449278e-01\n",
      "  -1.77116503e-01 -5.13240516e-01 -3.81991146e-01  4.86306029e-01\n",
      "  -1.23562011e-01  1.96658342e-01 -1.66832433e-02  4.91269571e-02\n",
      "   5.40232167e-02 -2.73854163e-02]\n",
      " [-3.10211550e-01  1.60948085e-01  2.78258727e-03  3.22944674e-02\n",
      "   6.19283583e-02 -5.56943264e-02  9.56353775e-03 -8.02043159e-02\n",
      "   1.39278267e-01  2.75564575e-01 -4.78613605e-03  2.22126650e-01\n",
      "  -4.01797280e-01  7.46467802e-01]]\n"
     ]
    }
   ],
   "source": [
    "idx = w.argsort()[::-1]   \n",
    "w = w[idx]\n",
    "v = v[:,idx]\n",
    "print(w)\n",
    "print(v)"
   ]
  },
  {
   "cell_type": "code",
   "execution_count": 105,
   "metadata": {},
   "outputs": [],
   "source": [
    "def pve(m,v,data):\n",
    "#     ans = 0\n",
    "#     assert(len(data.columns)==len(v[:,0]))\n",
    "    return sum(data.dot(v[:,m])**2)/len(data)\n",
    "def totVar(v,data):\n",
    "    ans =0\n",
    "    for i in range(len(data.columns)):\n",
    "        ans+= sum(data.iloc[:,i]**2)/len(data)\n",
    "    return ans\n"
   ]
  },
  {
   "cell_type": "code",
   "execution_count": 106,
   "metadata": {},
   "outputs": [],
   "source": [
    "PVE = []\n",
    "for i in range(len(cars[feats].columns)):\n",
    "    PVE.append(pve(i,v,cars[feats])/totVar(v,cars[feats]))"
   ]
  },
  {
   "cell_type": "code",
   "execution_count": null,
   "metadata": {},
   "outputs": [],
   "source": []
  },
  {
   "cell_type": "code",
   "execution_count": 107,
   "metadata": {},
   "outputs": [
    {
     "data": {
      "text/plain": [
       "[<matplotlib.lines.Line2D at 0x7f5834072cc0>]"
      ]
     },
     "execution_count": 107,
     "metadata": {},
     "output_type": "execute_result"
    },
    {
     "data": {
      "image/png": "[encoded data removed]",
      "text/plain": [
       "<matplotlib.figure.Figure at 0x7f58298d92b0>"
      ]
     },
     "metadata": {},
     "output_type": "display_data"
    }
   ],
   "source": [
    "fig = plt.figure(figsize=(12,4))\n",
    "plt.subplot(1,2,1)\n",
    "plt.plot(np.arange(len(PVE))+1,PVE,linewidth = 1,c=\"#373F9E\")\n",
    "plt.scatter(np.arange(len(PVE))+1,PVE,linewidth = 1,edgecolors='#373F9E', facecolors='none')\n",
    "plt.xlabel(\"Principal component\")\n",
    "plt.ylabel(\"Prop. Variance Explained\")\n",
    "plt.ylim(0,1.1)\n",
    "\n",
    "\n",
    "PVE= np.array(PVE)\n",
    "cumulativePVE = np.cumsum(PVE)\n",
    "\n",
    "\n",
    "plt.subplot(1,2,2)\n",
    "plt.plot(np.arange(len(PVE))+1,cumulativePVE,linewidth = 1,c='#373F9E')\n",
    "plt.scatter(np.arange(len(PVE))+1,cumulativePVE,linewidth = 1,edgecolors='#373F9E', facecolors='none')\n",
    "plt.xlabel(\"Principal component\")\n",
    "plt.ylabel(\"Cumulative Prop. Variance Explained\")\n",
    "plt.ylim(0,1.1)\n",
    "plt.plot(np.arange(len(PVE))+1,np.ones(len(PVE))*0.8,c='black',linestyle='--',linewidth=1)"
   ]
  },
  {
   "cell_type": "code",
   "execution_count": 108,
   "metadata": {},
   "outputs": [
    {
     "data": {
      "text/plain": [
       "array([0.68806175, 0.78781644, 0.84966126, 0.88192453, 0.91017704,\n",
       "       0.93510857, 0.95293439, 0.96768297, 0.97878079, 0.98564378,\n",
       "       0.9912535 , 0.99550564, 0.99837473, 1.        ])"
      ]
     },
     "execution_count": 108,
     "metadata": {},
     "output_type": "execute_result"
    }
   ],
   "source": [
    "cumulativePVE"
   ]
  },
  {
   "cell_type": "markdown",
   "metadata": {},
   "source": [
    "## Con 2 componentes logramos explicar el 78% de la varianza y con 3, 84.9%. Estos 3 vectores son:"
   ]
  },
  {
   "cell_type": "code",
   "execution_count": 109,
   "metadata": {},
   "outputs": [
    {
     "name": "stdout",
     "output_type": "stream",
     "text": [
      "vector 1:\n",
      "[ 0.23541646 -0.28034652 -0.30942601 -0.25094227  0.15448405  0.27171998\n",
      " -0.28231648 -0.29912145 -0.29659177 -0.29776026 -0.27179937 -0.18880143\n",
      " -0.24086345 -0.31021155]\n",
      "vector 2:\n",
      "[-3.12763167e-01  1.20919447e-01 -4.87688673e-04  4.77090785e-01\n",
      "  5.67756816e-01  6.69580415e-02  2.08757990e-01 -7.50613818e-02\n",
      " -8.33753884e-02 -3.43080756e-02 -8.07556345e-02 -3.26333538e-01\n",
      " -3.69930678e-01  1.60948085e-01]\n",
      "vector 3:\n",
      "[ 0.15735991 -0.08084359 -0.10408215  0.06844412  0.52866569  0.25526736\n",
      "  0.11379178  0.08234105  0.21089201 -0.14251595 -0.13226862  0.67066446\n",
      "  0.2381748   0.00278259]\n"
     ]
    }
   ],
   "source": [
    "print('vector 1:')\n",
    "print(v[:,0])\n",
    "print('vector 2:')\n",
    "print(v[:,1])\n",
    "print('vector 3:')\n",
    "print(v[:,2])"
   ]
  },
  {
   "cell_type": "markdown",
   "metadata": {},
   "source": [
    "## Grafiquemos ahora los carros como proyecciones en los primeros dos componentes principales"
   ]
  },
  {
   "cell_type": "code",
   "execution_count": 110,
   "metadata": {},
   "outputs": [],
   "source": [
    "phi1 = v[:,0]\n",
    "phi2 = v[:,1]"
   ]
  },
  {
   "cell_type": "code",
   "execution_count": 111,
   "metadata": {},
   "outputs": [],
   "source": [
    "def project(a,b):\n",
    "    return np.dot(a,b)/(np.sqrt(np.dot(a,a)))\n",
    "\n",
    "newCoords = []\n",
    "# names= []\n",
    "for index, row in cars.iterrows():\n",
    "#    print row['c1'], row['c2']\n",
    "    vect = (row[feats].values)\n",
    "#     newCoords.append([project(phi1,vect),project(phi2,vect),row[\"Unnamed: 0\"]])\n",
    "    newCoords.append([project(phi1,vect),project(phi2,vect)])\n",
    "#     names.append(row[\"Unnamed: 0\"])\n",
    "newCoords = np.array(newCoords)"
   ]
  },
  {
   "cell_type": "code",
   "execution_count": 112,
   "metadata": {},
   "outputs": [
    {
     "data": {
      "text/plain": [
       "Text(0,0.5,'Second principal component')"
      ]
     },
     "execution_count": 112,
     "metadata": {},
     "output_type": "execute_result"
    },
    {
     "data": {
      "image/png": "[encoded data removed]",
      "text/plain": [
       "<matplotlib.figure.Figure at 0x7f58296fe748>"
      ]
     },
     "metadata": {},
     "output_type": "display_data"
    }
   ],
   "source": [
    "fig = plt.figure(figsize=(15,10))\n",
    "# for i in range(len(names)):\n",
    "#     plt.text(newCoords[:,0][i],newCoords[:,1][i],names[i],fontsize = 10,color=\"#4574BA\")\n",
    "plt.scatter(newCoords[:,0],newCoords[:,1])\n",
    "\n",
    "\n",
    "plt.xlabel(\"First principal component\")\n",
    "plt.ylabel(\"Second principal component\")"
   ]
  },
  {
   "cell_type": "code",
   "execution_count": null,
   "metadata": {},
   "outputs": [],
   "source": []
  },
  {
   "cell_type": "code",
   "execution_count": null,
   "metadata": {},
   "outputs": [],
   "source": []
  }
 ],
 "metadata": {
  "kernelspec": {
   "display_name": "Python 3",
   "language": "python",
   "name": "python3"
  },
  "language_info": {
   "codemirror_mode": {
    "name": "ipython",
    "version": 3
   },
   "file_extension": ".py",
   "mimetype": "text/x-python",
   "name": "python",
   "nbconvert_exporter": "python",
   "pygments_lexer": "ipython3",
   "version": "3.6.4"
  }
 },
 "nbformat": 4,
 "nbformat_minor": 2
}
