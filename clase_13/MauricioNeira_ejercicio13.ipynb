{
 "cells": [
  {
   "cell_type": "code",
   "execution_count": 1,
   "metadata": {},
   "outputs": [],
   "source": [
    "import numpy as np\n",
    "import matplotlib.pyplot as plt\n",
    "import pandas as pd\n",
    "%matplotlib inline"
   ]
  },
  {
   "cell_type": "markdown",
   "metadata": {},
   "source": [
    "# Modelos Lineales\n",
    "\n",
    "Los modelos lineales tienen grandes ventajas: son fáciles de implementar e interpretar.\n",
    "Esto los convierte en una base conceptual importante que es necesario revisar antes de pasar a métodos \n",
    "más complejos.\n",
    "\n",
    "En un modelo lineal la respuesta, o target, $Y$ se modela como una combinación lineal de variables $X_1, \\ldots, X_p$:\n",
    "\n",
    "$$\n",
    "Y = \\beta_0 + \\beta_1 X_1 + \\ldots + \\beta_p X_p\n",
    "$$\n",
    "\n",
    "En este notebook vamos a utilizar `scikit-learn` para ajustar diferentes modelos lineales a un conjunto de datos."
   ]
  },
  {
   "cell_type": "markdown",
   "metadata": {},
   "source": [
    "Primero importamos el submódulo necesario"
   ]
  },
  {
   "cell_type": "code",
   "execution_count": 2,
   "metadata": {},
   "outputs": [],
   "source": [
    "import sklearn.linear_model"
   ]
  },
  {
   "cell_type": "markdown",
   "metadata": {},
   "source": [
    "sklearn.linear_model tiene una gran variedad de objetos que implementan diferentes tipos de modelos lineales.\n",
    "La lista completa se pueden encontrar en http://scikit-learn.org/stable/modules/classes.html#module-sklearn.linear_model\n",
    "\n",
    "En este notebook vamos a empezar con el modelo más sencillo de todos: la regresión lineal por mínimos cuadrados."
   ]
  },
  {
   "cell_type": "markdown",
   "metadata": {},
   "source": [
    "## Precios de Carros en Estados Unidos en 1993\n",
    "\n",
    "Para hacer la discusión más concreta vamos a cargar datos sobre precios y características de carros en Estados Unidos \n",
    "en el año 1993. Los datos que se encuentran en este repositorio son una copia tomada de https://vincentarelbundock.github.io/Rdatasets/doc/MASS/Cars93.html\n",
    "\n",
    "En esa página se encuentra la descripción de cada una de las variables.\n",
    "Por ahora vamos a cargar el archivo usando pandas"
   ]
  },
  {
   "cell_type": "code",
   "execution_count": 3,
   "metadata": {},
   "outputs": [],
   "source": [
    "data = pd.read_csv('Cars93.csv')"
   ]
  },
  {
   "cell_type": "markdown",
   "metadata": {},
   "source": [
    "El número total de entradas es"
   ]
  },
  {
   "cell_type": "code",
   "execution_count": 4,
   "metadata": {},
   "outputs": [
    {
     "data": {
      "text/plain": [
       "93"
      ]
     },
     "execution_count": 4,
     "metadata": {},
     "output_type": "execute_result"
    }
   ],
   "source": [
    "len(data)"
   ]
  },
  {
   "cell_type": "markdown",
   "metadata": {},
   "source": [
    "El número de columnas es"
   ]
  },
  {
   "cell_type": "code",
   "execution_count": 5,
   "metadata": {},
   "outputs": [
    {
     "data": {
      "text/plain": [
       "28"
      ]
     },
     "execution_count": 5,
     "metadata": {},
     "output_type": "execute_result"
    }
   ],
   "source": [
    "len(data.keys())"
   ]
  },
  {
   "cell_type": "markdown",
   "metadata": {},
   "source": [
    "Los nombres de las columnas son"
   ]
  },
  {
   "cell_type": "code",
   "execution_count": 6,
   "metadata": {},
   "outputs": [
    {
     "data": {
      "text/plain": [
       "Index(['Unnamed: 0', 'Manufacturer', 'Model', 'Type', 'Min.Price', 'Price',\n",
       "       'Max.Price', 'MPG.city', 'MPG.highway', 'AirBags', 'DriveTrain',\n",
       "       'Cylinders', 'EngineSize', 'Horsepower', 'RPM', 'Rev.per.mile',\n",
       "       'Man.trans.avail', 'Fuel.tank.capacity', 'Passengers', 'Length',\n",
       "       'Wheelbase', 'Width', 'Turn.circle', 'Rear.seat.room', 'Luggage.room',\n",
       "       'Weight', 'Origin', 'Make'],\n",
       "      dtype='object')"
      ]
     },
     "execution_count": 6,
     "metadata": {},
     "output_type": "execute_result"
    }
   ],
   "source": [
    "data.keys()"
   ]
  },
  {
   "cell_type": "markdown",
   "metadata": {},
   "source": [
    "Una visión rápida de los primeros 10 elementos"
   ]
  },
  {
   "cell_type": "code",
   "execution_count": 7,
   "metadata": {},
   "outputs": [
    {
     "data": {
      "text/html": [
       "<div>\n",
       "<style scoped>\n",
       "    .dataframe tbody tr th:only-of-type {\n",
       "        vertical-align: middle;\n",
       "    }\n",
       "\n",
       "    .dataframe tbody tr th {\n",
       "        vertical-align: top;\n",
       "    }\n",
       "\n",
       "    .dataframe thead th {\n",
       "        text-align: right;\n",
       "    }\n",
       "</style>\n",
       "<table border=\"1\" class=\"dataframe\">\n",
       "  <thead>\n",
       "    <tr style=\"text-align: right;\">\n",
       "      <th></th>\n",
       "      <th>Unnamed: 0</th>\n",
       "      <th>Manufacturer</th>\n",
       "      <th>Model</th>\n",
       "      <th>Type</th>\n",
       "      <th>Min.Price</th>\n",
       "      <th>Price</th>\n",
       "      <th>Max.Price</th>\n",
       "      <th>MPG.city</th>\n",
       "      <th>MPG.highway</th>\n",
       "      <th>AirBags</th>\n",
       "      <th>...</th>\n",
       "      <th>Passengers</th>\n",
       "      <th>Length</th>\n",
       "      <th>Wheelbase</th>\n",
       "      <th>Width</th>\n",
       "      <th>Turn.circle</th>\n",
       "      <th>Rear.seat.room</th>\n",
       "      <th>Luggage.room</th>\n",
       "      <th>Weight</th>\n",
       "      <th>Origin</th>\n",
       "      <th>Make</th>\n",
       "    </tr>\n",
       "  </thead>\n",
       "  <tbody>\n",
       "    <tr>\n",
       "      <th>0</th>\n",
       "      <td>1</td>\n",
       "      <td>Acura</td>\n",
       "      <td>Integra</td>\n",
       "      <td>Small</td>\n",
       "      <td>12.9</td>\n",
       "      <td>15.9</td>\n",
       "      <td>18.8</td>\n",
       "      <td>25</td>\n",
       "      <td>31</td>\n",
       "      <td>None</td>\n",
       "      <td>...</td>\n",
       "      <td>5</td>\n",
       "      <td>177</td>\n",
       "      <td>102</td>\n",
       "      <td>68</td>\n",
       "      <td>37</td>\n",
       "      <td>26.5</td>\n",
       "      <td>11.0</td>\n",
       "      <td>2705</td>\n",
       "      <td>non-USA</td>\n",
       "      <td>Acura Integra</td>\n",
       "    </tr>\n",
       "    <tr>\n",
       "      <th>1</th>\n",
       "      <td>2</td>\n",
       "      <td>Acura</td>\n",
       "      <td>Legend</td>\n",
       "      <td>Midsize</td>\n",
       "      <td>29.2</td>\n",
       "      <td>33.9</td>\n",
       "      <td>38.7</td>\n",
       "      <td>18</td>\n",
       "      <td>25</td>\n",
       "      <td>Driver &amp; Passenger</td>\n",
       "      <td>...</td>\n",
       "      <td>5</td>\n",
       "      <td>195</td>\n",
       "      <td>115</td>\n",
       "      <td>71</td>\n",
       "      <td>38</td>\n",
       "      <td>30.0</td>\n",
       "      <td>15.0</td>\n",
       "      <td>3560</td>\n",
       "      <td>non-USA</td>\n",
       "      <td>Acura Legend</td>\n",
       "    </tr>\n",
       "    <tr>\n",
       "      <th>2</th>\n",
       "      <td>3</td>\n",
       "      <td>Audi</td>\n",
       "      <td>90</td>\n",
       "      <td>Compact</td>\n",
       "      <td>25.9</td>\n",
       "      <td>29.1</td>\n",
       "      <td>32.3</td>\n",
       "      <td>20</td>\n",
       "      <td>26</td>\n",
       "      <td>Driver only</td>\n",
       "      <td>...</td>\n",
       "      <td>5</td>\n",
       "      <td>180</td>\n",
       "      <td>102</td>\n",
       "      <td>67</td>\n",
       "      <td>37</td>\n",
       "      <td>28.0</td>\n",
       "      <td>14.0</td>\n",
       "      <td>3375</td>\n",
       "      <td>non-USA</td>\n",
       "      <td>Audi 90</td>\n",
       "    </tr>\n",
       "    <tr>\n",
       "      <th>3</th>\n",
       "      <td>4</td>\n",
       "      <td>Audi</td>\n",
       "      <td>100</td>\n",
       "      <td>Midsize</td>\n",
       "      <td>30.8</td>\n",
       "      <td>37.7</td>\n",
       "      <td>44.6</td>\n",
       "      <td>19</td>\n",
       "      <td>26</td>\n",
       "      <td>Driver &amp; Passenger</td>\n",
       "      <td>...</td>\n",
       "      <td>6</td>\n",
       "      <td>193</td>\n",
       "      <td>106</td>\n",
       "      <td>70</td>\n",
       "      <td>37</td>\n",
       "      <td>31.0</td>\n",
       "      <td>17.0</td>\n",
       "      <td>3405</td>\n",
       "      <td>non-USA</td>\n",
       "      <td>Audi 100</td>\n",
       "    </tr>\n",
       "    <tr>\n",
       "      <th>4</th>\n",
       "      <td>5</td>\n",
       "      <td>BMW</td>\n",
       "      <td>535i</td>\n",
       "      <td>Midsize</td>\n",
       "      <td>23.7</td>\n",
       "      <td>30.0</td>\n",
       "      <td>36.2</td>\n",
       "      <td>22</td>\n",
       "      <td>30</td>\n",
       "      <td>Driver only</td>\n",
       "      <td>...</td>\n",
       "      <td>4</td>\n",
       "      <td>186</td>\n",
       "      <td>109</td>\n",
       "      <td>69</td>\n",
       "      <td>39</td>\n",
       "      <td>27.0</td>\n",
       "      <td>13.0</td>\n",
       "      <td>3640</td>\n",
       "      <td>non-USA</td>\n",
       "      <td>BMW 535i</td>\n",
       "    </tr>\n",
       "  </tbody>\n",
       "</table>\n",
       "<p>5 rows × 28 columns</p>\n",
       "</div>"
      ],
      "text/plain": [
       "   Unnamed: 0 Manufacturer    Model     Type  Min.Price  Price  Max.Price  \\\n",
       "0           1        Acura  Integra    Small       12.9   15.9       18.8   \n",
       "1           2        Acura   Legend  Midsize       29.2   33.9       38.7   \n",
       "2           3         Audi       90  Compact       25.9   29.1       32.3   \n",
       "3           4         Audi      100  Midsize       30.8   37.7       44.6   \n",
       "4           5          BMW     535i  Midsize       23.7   30.0       36.2   \n",
       "\n",
       "   MPG.city  MPG.highway             AirBags      ...       Passengers Length  \\\n",
       "0        25           31                None      ...                5    177   \n",
       "1        18           25  Driver & Passenger      ...                5    195   \n",
       "2        20           26         Driver only      ...                5    180   \n",
       "3        19           26  Driver & Passenger      ...                6    193   \n",
       "4        22           30         Driver only      ...                4    186   \n",
       "\n",
       "   Wheelbase  Width  Turn.circle  Rear.seat.room Luggage.room  Weight  \\\n",
       "0        102     68           37            26.5         11.0    2705   \n",
       "1        115     71           38            30.0         15.0    3560   \n",
       "2        102     67           37            28.0         14.0    3375   \n",
       "3        106     70           37            31.0         17.0    3405   \n",
       "4        109     69           39            27.0         13.0    3640   \n",
       "\n",
       "    Origin           Make  \n",
       "0  non-USA  Acura Integra  \n",
       "1  non-USA   Acura Legend  \n",
       "2  non-USA        Audi 90  \n",
       "3  non-USA       Audi 100  \n",
       "4  non-USA       BMW 535i  \n",
       "\n",
       "[5 rows x 28 columns]"
      ]
     },
     "execution_count": 7,
     "metadata": {},
     "output_type": "execute_result"
    }
   ],
   "source": [
    "data.head()"
   ]
  },
  {
   "cell_type": "markdown",
   "metadata": {},
   "source": [
    "Como respuesta vamos a utilizar `Price` y como variables `Turn.circle`, `Horsepower` y  `MPG.Highway`\n",
    "Vamos a recortar entonces las columnas a esas variables "
   ]
  },
  {
   "cell_type": "code",
   "execution_count": 8,
   "metadata": {},
   "outputs": [
    {
     "data": {
      "text/html": [
       "<div>\n",
       "<style scoped>\n",
       "    .dataframe tbody tr th:only-of-type {\n",
       "        vertical-align: middle;\n",
       "    }\n",
       "\n",
       "    .dataframe tbody tr th {\n",
       "        vertical-align: top;\n",
       "    }\n",
       "\n",
       "    .dataframe thead th {\n",
       "        text-align: right;\n",
       "    }\n",
       "</style>\n",
       "<table border=\"1\" class=\"dataframe\">\n",
       "  <thead>\n",
       "    <tr style=\"text-align: right;\">\n",
       "      <th></th>\n",
       "      <th>Price</th>\n",
       "      <th>Horsepower</th>\n",
       "      <th>MPG.highway</th>\n",
       "      <th>Turn.circle</th>\n",
       "    </tr>\n",
       "  </thead>\n",
       "  <tbody>\n",
       "    <tr>\n",
       "      <th>0</th>\n",
       "      <td>15.9</td>\n",
       "      <td>140</td>\n",
       "      <td>31</td>\n",
       "      <td>37</td>\n",
       "    </tr>\n",
       "    <tr>\n",
       "      <th>1</th>\n",
       "      <td>33.9</td>\n",
       "      <td>200</td>\n",
       "      <td>25</td>\n",
       "      <td>38</td>\n",
       "    </tr>\n",
       "    <tr>\n",
       "      <th>2</th>\n",
       "      <td>29.1</td>\n",
       "      <td>172</td>\n",
       "      <td>26</td>\n",
       "      <td>37</td>\n",
       "    </tr>\n",
       "    <tr>\n",
       "      <th>3</th>\n",
       "      <td>37.7</td>\n",
       "      <td>172</td>\n",
       "      <td>26</td>\n",
       "      <td>37</td>\n",
       "    </tr>\n",
       "    <tr>\n",
       "      <th>4</th>\n",
       "      <td>30.0</td>\n",
       "      <td>208</td>\n",
       "      <td>30</td>\n",
       "      <td>39</td>\n",
       "    </tr>\n",
       "    <tr>\n",
       "      <th>5</th>\n",
       "      <td>15.7</td>\n",
       "      <td>110</td>\n",
       "      <td>31</td>\n",
       "      <td>41</td>\n",
       "    </tr>\n",
       "    <tr>\n",
       "      <th>6</th>\n",
       "      <td>20.8</td>\n",
       "      <td>170</td>\n",
       "      <td>28</td>\n",
       "      <td>42</td>\n",
       "    </tr>\n",
       "    <tr>\n",
       "      <th>7</th>\n",
       "      <td>23.7</td>\n",
       "      <td>180</td>\n",
       "      <td>25</td>\n",
       "      <td>45</td>\n",
       "    </tr>\n",
       "    <tr>\n",
       "      <th>8</th>\n",
       "      <td>26.3</td>\n",
       "      <td>170</td>\n",
       "      <td>27</td>\n",
       "      <td>41</td>\n",
       "    </tr>\n",
       "    <tr>\n",
       "      <th>9</th>\n",
       "      <td>34.7</td>\n",
       "      <td>200</td>\n",
       "      <td>25</td>\n",
       "      <td>43</td>\n",
       "    </tr>\n",
       "    <tr>\n",
       "      <th>10</th>\n",
       "      <td>40.1</td>\n",
       "      <td>295</td>\n",
       "      <td>25</td>\n",
       "      <td>44</td>\n",
       "    </tr>\n",
       "    <tr>\n",
       "      <th>11</th>\n",
       "      <td>13.4</td>\n",
       "      <td>110</td>\n",
       "      <td>36</td>\n",
       "      <td>38</td>\n",
       "    </tr>\n",
       "    <tr>\n",
       "      <th>12</th>\n",
       "      <td>11.4</td>\n",
       "      <td>110</td>\n",
       "      <td>34</td>\n",
       "      <td>39</td>\n",
       "    </tr>\n",
       "    <tr>\n",
       "      <th>13</th>\n",
       "      <td>15.1</td>\n",
       "      <td>160</td>\n",
       "      <td>28</td>\n",
       "      <td>43</td>\n",
       "    </tr>\n",
       "    <tr>\n",
       "      <th>14</th>\n",
       "      <td>15.9</td>\n",
       "      <td>110</td>\n",
       "      <td>29</td>\n",
       "      <td>40</td>\n",
       "    </tr>\n",
       "    <tr>\n",
       "      <th>15</th>\n",
       "      <td>16.3</td>\n",
       "      <td>170</td>\n",
       "      <td>23</td>\n",
       "      <td>44</td>\n",
       "    </tr>\n",
       "    <tr>\n",
       "      <th>16</th>\n",
       "      <td>16.6</td>\n",
       "      <td>165</td>\n",
       "      <td>20</td>\n",
       "      <td>42</td>\n",
       "    </tr>\n",
       "    <tr>\n",
       "      <th>17</th>\n",
       "      <td>18.8</td>\n",
       "      <td>170</td>\n",
       "      <td>26</td>\n",
       "      <td>42</td>\n",
       "    </tr>\n",
       "    <tr>\n",
       "      <th>18</th>\n",
       "      <td>38.0</td>\n",
       "      <td>300</td>\n",
       "      <td>25</td>\n",
       "      <td>43</td>\n",
       "    </tr>\n",
       "    <tr>\n",
       "      <th>19</th>\n",
       "      <td>18.4</td>\n",
       "      <td>153</td>\n",
       "      <td>28</td>\n",
       "      <td>40</td>\n",
       "    </tr>\n",
       "    <tr>\n",
       "      <th>20</th>\n",
       "      <td>15.8</td>\n",
       "      <td>141</td>\n",
       "      <td>28</td>\n",
       "      <td>41</td>\n",
       "    </tr>\n",
       "    <tr>\n",
       "      <th>21</th>\n",
       "      <td>29.5</td>\n",
       "      <td>147</td>\n",
       "      <td>26</td>\n",
       "      <td>44</td>\n",
       "    </tr>\n",
       "    <tr>\n",
       "      <th>22</th>\n",
       "      <td>9.2</td>\n",
       "      <td>92</td>\n",
       "      <td>33</td>\n",
       "      <td>32</td>\n",
       "    </tr>\n",
       "    <tr>\n",
       "      <th>23</th>\n",
       "      <td>11.3</td>\n",
       "      <td>93</td>\n",
       "      <td>29</td>\n",
       "      <td>38</td>\n",
       "    </tr>\n",
       "    <tr>\n",
       "      <th>24</th>\n",
       "      <td>13.3</td>\n",
       "      <td>100</td>\n",
       "      <td>27</td>\n",
       "      <td>39</td>\n",
       "    </tr>\n",
       "    <tr>\n",
       "      <th>25</th>\n",
       "      <td>19.0</td>\n",
       "      <td>142</td>\n",
       "      <td>21</td>\n",
       "      <td>42</td>\n",
       "    </tr>\n",
       "    <tr>\n",
       "      <th>26</th>\n",
       "      <td>15.6</td>\n",
       "      <td>100</td>\n",
       "      <td>27</td>\n",
       "      <td>42</td>\n",
       "    </tr>\n",
       "    <tr>\n",
       "      <th>27</th>\n",
       "      <td>25.8</td>\n",
       "      <td>300</td>\n",
       "      <td>24</td>\n",
       "      <td>40</td>\n",
       "    </tr>\n",
       "    <tr>\n",
       "      <th>28</th>\n",
       "      <td>12.2</td>\n",
       "      <td>92</td>\n",
       "      <td>33</td>\n",
       "      <td>36</td>\n",
       "    </tr>\n",
       "    <tr>\n",
       "      <th>29</th>\n",
       "      <td>19.3</td>\n",
       "      <td>214</td>\n",
       "      <td>28</td>\n",
       "      <td>40</td>\n",
       "    </tr>\n",
       "    <tr>\n",
       "      <th>...</th>\n",
       "      <td>...</td>\n",
       "      <td>...</td>\n",
       "      <td>...</td>\n",
       "      <td>...</td>\n",
       "    </tr>\n",
       "    <tr>\n",
       "      <th>63</th>\n",
       "      <td>11.8</td>\n",
       "      <td>110</td>\n",
       "      <td>33</td>\n",
       "      <td>33</td>\n",
       "    </tr>\n",
       "    <tr>\n",
       "      <th>64</th>\n",
       "      <td>15.7</td>\n",
       "      <td>150</td>\n",
       "      <td>30</td>\n",
       "      <td>40</td>\n",
       "    </tr>\n",
       "    <tr>\n",
       "      <th>65</th>\n",
       "      <td>19.1</td>\n",
       "      <td>151</td>\n",
       "      <td>23</td>\n",
       "      <td>41</td>\n",
       "    </tr>\n",
       "    <tr>\n",
       "      <th>66</th>\n",
       "      <td>21.5</td>\n",
       "      <td>160</td>\n",
       "      <td>26</td>\n",
       "      <td>41</td>\n",
       "    </tr>\n",
       "    <tr>\n",
       "      <th>67</th>\n",
       "      <td>13.5</td>\n",
       "      <td>155</td>\n",
       "      <td>31</td>\n",
       "      <td>39</td>\n",
       "    </tr>\n",
       "    <tr>\n",
       "      <th>68</th>\n",
       "      <td>16.3</td>\n",
       "      <td>110</td>\n",
       "      <td>31</td>\n",
       "      <td>42</td>\n",
       "    </tr>\n",
       "    <tr>\n",
       "      <th>69</th>\n",
       "      <td>19.5</td>\n",
       "      <td>170</td>\n",
       "      <td>23</td>\n",
       "      <td>44</td>\n",
       "    </tr>\n",
       "    <tr>\n",
       "      <th>70</th>\n",
       "      <td>20.7</td>\n",
       "      <td>170</td>\n",
       "      <td>28</td>\n",
       "      <td>42</td>\n",
       "    </tr>\n",
       "    <tr>\n",
       "      <th>71</th>\n",
       "      <td>14.4</td>\n",
       "      <td>92</td>\n",
       "      <td>30</td>\n",
       "      <td>39</td>\n",
       "    </tr>\n",
       "    <tr>\n",
       "      <th>72</th>\n",
       "      <td>9.0</td>\n",
       "      <td>74</td>\n",
       "      <td>41</td>\n",
       "      <td>35</td>\n",
       "    </tr>\n",
       "    <tr>\n",
       "      <th>73</th>\n",
       "      <td>11.1</td>\n",
       "      <td>110</td>\n",
       "      <td>31</td>\n",
       "      <td>39</td>\n",
       "    </tr>\n",
       "    <tr>\n",
       "      <th>74</th>\n",
       "      <td>17.7</td>\n",
       "      <td>160</td>\n",
       "      <td>28</td>\n",
       "      <td>43</td>\n",
       "    </tr>\n",
       "    <tr>\n",
       "      <th>75</th>\n",
       "      <td>18.5</td>\n",
       "      <td>200</td>\n",
       "      <td>27</td>\n",
       "      <td>41</td>\n",
       "    </tr>\n",
       "    <tr>\n",
       "      <th>76</th>\n",
       "      <td>24.4</td>\n",
       "      <td>170</td>\n",
       "      <td>28</td>\n",
       "      <td>43</td>\n",
       "    </tr>\n",
       "    <tr>\n",
       "      <th>77</th>\n",
       "      <td>28.7</td>\n",
       "      <td>140</td>\n",
       "      <td>26</td>\n",
       "      <td>37</td>\n",
       "    </tr>\n",
       "    <tr>\n",
       "      <th>78</th>\n",
       "      <td>11.1</td>\n",
       "      <td>85</td>\n",
       "      <td>38</td>\n",
       "      <td>40</td>\n",
       "    </tr>\n",
       "    <tr>\n",
       "      <th>79</th>\n",
       "      <td>8.4</td>\n",
       "      <td>73</td>\n",
       "      <td>37</td>\n",
       "      <td>32</td>\n",
       "    </tr>\n",
       "    <tr>\n",
       "      <th>80</th>\n",
       "      <td>10.9</td>\n",
       "      <td>90</td>\n",
       "      <td>30</td>\n",
       "      <td>35</td>\n",
       "    </tr>\n",
       "    <tr>\n",
       "      <th>81</th>\n",
       "      <td>19.5</td>\n",
       "      <td>130</td>\n",
       "      <td>30</td>\n",
       "      <td>37</td>\n",
       "    </tr>\n",
       "    <tr>\n",
       "      <th>82</th>\n",
       "      <td>8.6</td>\n",
       "      <td>70</td>\n",
       "      <td>43</td>\n",
       "      <td>34</td>\n",
       "    </tr>\n",
       "    <tr>\n",
       "      <th>83</th>\n",
       "      <td>9.8</td>\n",
       "      <td>82</td>\n",
       "      <td>37</td>\n",
       "      <td>36</td>\n",
       "    </tr>\n",
       "    <tr>\n",
       "      <th>84</th>\n",
       "      <td>18.4</td>\n",
       "      <td>135</td>\n",
       "      <td>32</td>\n",
       "      <td>39</td>\n",
       "    </tr>\n",
       "    <tr>\n",
       "      <th>85</th>\n",
       "      <td>18.2</td>\n",
       "      <td>130</td>\n",
       "      <td>29</td>\n",
       "      <td>38</td>\n",
       "    </tr>\n",
       "    <tr>\n",
       "      <th>86</th>\n",
       "      <td>22.7</td>\n",
       "      <td>138</td>\n",
       "      <td>22</td>\n",
       "      <td>41</td>\n",
       "    </tr>\n",
       "    <tr>\n",
       "      <th>87</th>\n",
       "      <td>9.1</td>\n",
       "      <td>81</td>\n",
       "      <td>33</td>\n",
       "      <td>34</td>\n",
       "    </tr>\n",
       "    <tr>\n",
       "      <th>88</th>\n",
       "      <td>19.7</td>\n",
       "      <td>109</td>\n",
       "      <td>21</td>\n",
       "      <td>38</td>\n",
       "    </tr>\n",
       "    <tr>\n",
       "      <th>89</th>\n",
       "      <td>20.0</td>\n",
       "      <td>134</td>\n",
       "      <td>30</td>\n",
       "      <td>35</td>\n",
       "    </tr>\n",
       "    <tr>\n",
       "      <th>90</th>\n",
       "      <td>23.3</td>\n",
       "      <td>178</td>\n",
       "      <td>25</td>\n",
       "      <td>36</td>\n",
       "    </tr>\n",
       "    <tr>\n",
       "      <th>91</th>\n",
       "      <td>22.7</td>\n",
       "      <td>114</td>\n",
       "      <td>28</td>\n",
       "      <td>37</td>\n",
       "    </tr>\n",
       "    <tr>\n",
       "      <th>92</th>\n",
       "      <td>26.7</td>\n",
       "      <td>168</td>\n",
       "      <td>28</td>\n",
       "      <td>38</td>\n",
       "    </tr>\n",
       "  </tbody>\n",
       "</table>\n",
       "<p>93 rows × 4 columns</p>\n",
       "</div>"
      ],
      "text/plain": [
       "    Price  Horsepower  MPG.highway  Turn.circle\n",
       "0    15.9         140           31           37\n",
       "1    33.9         200           25           38\n",
       "2    29.1         172           26           37\n",
       "3    37.7         172           26           37\n",
       "4    30.0         208           30           39\n",
       "5    15.7         110           31           41\n",
       "6    20.8         170           28           42\n",
       "7    23.7         180           25           45\n",
       "8    26.3         170           27           41\n",
       "9    34.7         200           25           43\n",
       "10   40.1         295           25           44\n",
       "11   13.4         110           36           38\n",
       "12   11.4         110           34           39\n",
       "13   15.1         160           28           43\n",
       "14   15.9         110           29           40\n",
       "15   16.3         170           23           44\n",
       "16   16.6         165           20           42\n",
       "17   18.8         170           26           42\n",
       "18   38.0         300           25           43\n",
       "19   18.4         153           28           40\n",
       "20   15.8         141           28           41\n",
       "21   29.5         147           26           44\n",
       "22    9.2          92           33           32\n",
       "23   11.3          93           29           38\n",
       "24   13.3         100           27           39\n",
       "25   19.0         142           21           42\n",
       "26   15.6         100           27           42\n",
       "27   25.8         300           24           40\n",
       "28   12.2          92           33           36\n",
       "29   19.3         214           28           40\n",
       "..    ...         ...          ...          ...\n",
       "63   11.8         110           33           33\n",
       "64   15.7         150           30           40\n",
       "65   19.1         151           23           41\n",
       "66   21.5         160           26           41\n",
       "67   13.5         155           31           39\n",
       "68   16.3         110           31           42\n",
       "69   19.5         170           23           44\n",
       "70   20.7         170           28           42\n",
       "71   14.4          92           30           39\n",
       "72    9.0          74           41           35\n",
       "73   11.1         110           31           39\n",
       "74   17.7         160           28           43\n",
       "75   18.5         200           27           41\n",
       "76   24.4         170           28           43\n",
       "77   28.7         140           26           37\n",
       "78   11.1          85           38           40\n",
       "79    8.4          73           37           32\n",
       "80   10.9          90           30           35\n",
       "81   19.5         130           30           37\n",
       "82    8.6          70           43           34\n",
       "83    9.8          82           37           36\n",
       "84   18.4         135           32           39\n",
       "85   18.2         130           29           38\n",
       "86   22.7         138           22           41\n",
       "87    9.1          81           33           34\n",
       "88   19.7         109           21           38\n",
       "89   20.0         134           30           35\n",
       "90   23.3         178           25           36\n",
       "91   22.7         114           28           37\n",
       "92   26.7         168           28           38\n",
       "\n",
       "[93 rows x 4 columns]"
      ]
     },
     "execution_count": 8,
     "metadata": {},
     "output_type": "execute_result"
    }
   ],
   "source": [
    "subset_data = data[['Price', 'Horsepower', 'MPG.highway', 'Turn.circle']]\n",
    "subset_data"
   ]
  },
  {
   "cell_type": "markdown",
   "metadata": {},
   "source": [
    "Para empezar vamos a graficar las propiedades de `subset_data`"
   ]
  },
  {
   "cell_type": "code",
   "execution_count": 9,
   "metadata": {},
   "outputs": [
    {
     "name": "stderr",
     "output_type": "stream",
     "text": [
      "/home/mauro/anaconda3/lib/python3.6/site-packages/ipykernel_launcher.py:3: FutureWarning: 'pandas.tools.plotting.scatter_matrix' is deprecated, import 'pandas.plotting.scatter_matrix' instead.\n",
      "  This is separate from the ipykernel package so we can avoid doing imports until\n"
     ]
    },
    {
     "data": {
      "image/png": "[encoded data removed]",
      "text/plain": [
       "<matplotlib.figure.Figure at 0x7f001d0cc828>"
      ]
     },
     "metadata": {},
     "output_type": "display_data"
    }
   ],
   "source": [
    "from pandas.tools import plotting\n",
    "\n",
    "_ = plotting.scatter_matrix(subset_data, figsize=(10,9))"
   ]
  },
  {
   "cell_type": "markdown",
   "metadata": {},
   "source": [
    "La primera fila de la figura anterior nos muestra que en efecto hay correlaciones entre `Price` y las variables de interés.\n",
    "Lo que vamos a hacer para empezar es encontrar los mejores parámetros para el modelo `Price` = $\\beta_0$ + $\\beta_1 \\times $`Horsepower`.\n",
    "\n",
    "Para esto vamos a inicializar la clase `sklearn.linear_model.LinearRegression`"
   ]
  },
  {
   "cell_type": "code",
   "execution_count": 10,
   "metadata": {},
   "outputs": [],
   "source": [
    "linear = sklearn.linear_model.LinearRegression()"
   ]
  },
  {
   "cell_type": "markdown",
   "metadata": {},
   "source": [
    "En este momento `linear` es una objeto que representa la clase `sklearn.linear_model.LinearRegression`.\n",
    "Por eso es posible acceder a varios métodos a través de `linear`. \n",
    "\n",
    "La lista completa de métodos disponibles es:"
   ]
  },
  {
   "cell_type": "code",
   "execution_count": 11,
   "metadata": {},
   "outputs": [
    {
     "data": {
      "text/plain": [
       "['__abstractmethods__',\n",
       " '__class__',\n",
       " '__delattr__',\n",
       " '__dict__',\n",
       " '__dir__',\n",
       " '__doc__',\n",
       " '__eq__',\n",
       " '__format__',\n",
       " '__ge__',\n",
       " '__getattribute__',\n",
       " '__getstate__',\n",
       " '__gt__',\n",
       " '__hash__',\n",
       " '__init__',\n",
       " '__init_subclass__',\n",
       " '__le__',\n",
       " '__lt__',\n",
       " '__module__',\n",
       " '__ne__',\n",
       " '__new__',\n",
       " '__reduce__',\n",
       " '__reduce_ex__',\n",
       " '__repr__',\n",
       " '__setattr__',\n",
       " '__setstate__',\n",
       " '__sizeof__',\n",
       " '__str__',\n",
       " '__subclasshook__',\n",
       " '__weakref__',\n",
       " '_abc_cache',\n",
       " '_abc_negative_cache',\n",
       " '_abc_negative_cache_version',\n",
       " '_abc_registry',\n",
       " '_decision_function',\n",
       " '_estimator_type',\n",
       " '_get_param_names',\n",
       " '_preprocess_data',\n",
       " '_set_intercept',\n",
       " 'copy_X',\n",
       " 'fit',\n",
       " 'fit_intercept',\n",
       " 'get_params',\n",
       " 'n_jobs',\n",
       " 'normalize',\n",
       " 'predict',\n",
       " 'score',\n",
       " 'set_params']"
      ]
     },
     "execution_count": 11,
     "metadata": {},
     "output_type": "execute_result"
    }
   ],
   "source": [
    "dir(linear)"
   ]
  },
  {
   "cell_type": "markdown",
   "metadata": {},
   "source": [
    "Para empezar nos vamos a interesar en los métodos `fit`, `predict`  y  `score`."
   ]
  },
  {
   "cell_type": "markdown",
   "metadata": {},
   "source": [
    "## **`fit`**\n",
    "\n",
    "`fit` es el método que hace el ajuste. Espera al menos dos parámetros de entrada: `X` y `Y`.\n",
    "`Y` es el target y `X` son las variables del modelo. \n",
    "Es importante notar que `X` debe tener la forma `[n_samples, n_features]`.\n",
    "Tal como se encuentra ahora `data[`Horsepower`]` tiene una forma de `[n_samples]`.\n",
    "Para convertirlo al formato adecuado podemos escribir"
   ]
  },
  {
   "cell_type": "code",
   "execution_count": 12,
   "metadata": {},
   "outputs": [],
   "source": [
    "X = data['Horsepower'].values.reshape(-1,1)\n",
    "Y = data['Price'].values.reshape(-1,1)"
   ]
  },
  {
   "cell_type": "markdown",
   "metadata": {},
   "source": [
    "Con esta definición el ajuste se hace simplemente como"
   ]
  },
  {
   "cell_type": "code",
   "execution_count": 13,
   "metadata": {},
   "outputs": [
    {
     "data": {
      "text/plain": [
       "LinearRegression(copy_X=True, fit_intercept=True, n_jobs=1, normalize=False)"
      ]
     },
     "execution_count": 13,
     "metadata": {},
     "output_type": "execute_result"
    }
   ],
   "source": [
    "linear.fit(X,Y)"
   ]
  },
  {
   "cell_type": "markdown",
   "metadata": {},
   "source": [
    "Ahora los atributos de linear contienen los valores de los coeficientes $\\beta_i$.\n",
    "\n",
    "Para $\\beta_0$ usamos el atributo `intercept_`"
   ]
  },
  {
   "cell_type": "code",
   "execution_count": 14,
   "metadata": {},
   "outputs": [
    {
     "name": "stdout",
     "output_type": "stream",
     "text": [
      "[-1.39876912]\n"
     ]
    }
   ],
   "source": [
    "print(linear.intercept_)"
   ]
  },
  {
   "cell_type": "markdown",
   "metadata": {},
   "source": [
    "Para $\\beta_1$ usamos el atributo `coef_`"
   ]
  },
  {
   "cell_type": "code",
   "execution_count": 15,
   "metadata": {},
   "outputs": [
    {
     "name": "stdout",
     "output_type": "stream",
     "text": [
      "[[0.14537123]]\n"
     ]
    }
   ],
   "source": [
    "print(linear.coef_)"
   ]
  },
  {
   "cell_type": "markdown",
   "metadata": {},
   "source": [
    "Esto quiere decir que podemos escribir el modelo como \n",
    "\n",
    "`Price` = `-1.39` + `0.14` $\\times$ `Horsepower`  "
   ]
  },
  {
   "cell_type": "markdown",
   "metadata": {},
   "source": [
    "## **`predict`**\n",
    "\n",
    "El método `predict` hace una predicción de `Y` dados valores de entrada de `X`.\n",
    "Si llamamamos el metodos con las variable `X` de entrada, entonces vamos a obtener la recta de mejor ajuste"
   ]
  },
  {
   "cell_type": "code",
   "execution_count": 16,
   "metadata": {},
   "outputs": [
    {
     "data": {
      "image/png": "[encoded data removed]",
      "text/plain": [
       "<matplotlib.figure.Figure at 0x7f001a96d390>"
      ]
     },
     "metadata": {},
     "output_type": "display_data"
    }
   ],
   "source": [
    "Y_predict = linear.predict(X)\n",
    "plt.plot(X, Y_predict, label='modelo')\n",
    "plt.scatter(X, Y, label='datos', color='red')\n",
    "plt.legend()\n",
    "plt.xlabel('Horsepower')\n",
    "_ = plt.ylabel('Price')"
   ]
  },
  {
   "cell_type": "markdown",
   "metadata": {},
   "source": [
    "## **`score`**\n",
    "\n",
    "Para tener una medida de que tan bueno es el ajuste usamos el coeficiente $R^2$\n",
    "definido como \n",
    "\n",
    "$$\n",
    "R^2 = 1 - \\frac{\\sum (y_{\\rm obs} - y_{\\rm model})^2}{\\sum (y_{\\rm obs} - \\bar{y}_{\\rm obs})^2}\n",
    "$$\n",
    "\n",
    "donde $\\bar{y}_{\\rm model}$ es el promedio de los valores observados.\n",
    "\n",
    "En nuestro caso tenemos"
   ]
  },
  {
   "cell_type": "code",
   "execution_count": 17,
   "metadata": {},
   "outputs": [
    {
     "name": "stdout",
     "output_type": "stream",
     "text": [
      "0.6212869500338227\n"
     ]
    }
   ],
   "source": [
    "print(linear.score(X, Y))"
   ]
  },
  {
   "cell_type": "markdown",
   "metadata": {},
   "source": [
    "### Ejercicio 6.1\n",
    "\n",
    "Haga los ajustes, gráficas de modelo vs. datos y cálculo de score para los siguientes modelos:\n",
    "\n",
    "* `Price` = $\\beta_0$ + $\\beta_1 \\times $`MPG.Highway`.\n",
    "\n",
    "* `Price` = $\\beta_0$ + $\\beta_1 \\times $`Turn.circle`.\n",
    "\n",
    "De acuerdo al $R^2$ score, cual de los tres modelos es el mejor?"
   ]
  },
  {
   "cell_type": "markdown",
   "metadata": {},
   "source": [
    "### Ejercicio 6.2\n",
    "\n",
    "Haga los ajustes, gráficas de modelo vs. datos y cálculo de score para los tres modelos lineales que incluyan dos variables.\n",
    "\n",
    "De acuerdo al $R^2$ score, es alguno de estos modelos mejor que los tres anteriores?"
   ]
  },
  {
   "cell_type": "markdown",
   "metadata": {},
   "source": [
    "### Ejercicio 6.3\n",
    "\n",
    "Haga los ajustes, gráficas de modelo vs. datos y cálculo de score para el siguiente modelo:\n",
    "\n",
    "* `Price` = $\\beta_0$ + $\\beta_1 \\times $ `Horsepower`+ $\\beta_2 \\times $ `MPG.Highway` + $\\beta_3 \\times $ `Turn.circle`.\n",
    "\n",
    "De acuerdo al $R^2$ score, es este modelos mejor que los seis modelos anteriores?"
   ]
  },
  {
   "cell_type": "markdown",
   "metadata": {},
   "source": [
    "### Ejercicio 6.4\n",
    "\n",
    "Calcule la evidencia bayesiana para los siete modelos lineales probados antes. ¿Cuál es el mejor modelo?"
   ]
  },
  {
   "cell_type": "markdown",
   "metadata": {},
   "source": [
    "# Respuestas"
   ]
  },
  {
   "cell_type": "markdown",
   "metadata": {},
   "source": [
    "## 6.1"
   ]
  },
  {
   "cell_type": "code",
   "execution_count": 39,
   "metadata": {},
   "outputs": [
    {
     "name": "stdout",
     "output_type": "stream",
     "text": [
      "score for MPG.highway: 0.3143624680022461\n"
     ]
    },
    {
     "data": {
      "image/png": "[encoded data removed]",
      "text/plain": [
       "<matplotlib.figure.Figure at 0x7f00117ba630>"
      ]
     },
     "metadata": {},
     "output_type": "display_data"
    }
   ],
   "source": [
    "X = data['MPG.highway'].values.reshape(-1,1)\n",
    "Y = data['Price'].values.reshape(-1,1)\n",
    "linear.fit(X,Y)\n",
    "print(\"score for MPG.highway: {}\".format(linear.score(X, Y)))\n",
    "Y_predict = linear.predict(X)\n",
    "plt.plot(X, Y_predict, label='modelo')\n",
    "plt.scatter(X, Y, label='datos', color='red')\n",
    "plt.legend()\n",
    "plt.xlabel('MPG.highway')\n",
    "_ = plt.ylabel('Price')"
   ]
  },
  {
   "cell_type": "code",
   "execution_count": 40,
   "metadata": {},
   "outputs": [
    {
     "name": "stdout",
     "output_type": "stream",
     "text": [
      "[49.05463153] [[-1.01577846]]\n"
     ]
    }
   ],
   "source": [
    "print(linear.intercept_,linear.coef_)"
   ]
  },
  {
   "cell_type": "code",
   "execution_count": 37,
   "metadata": {},
   "outputs": [
    {
     "name": "stdout",
     "output_type": "stream",
     "text": [
      "score for Turn.circle: 0.15412685056314557\n"
     ]
    },
    {
     "data": {
      "image/png": "[encoded data removed]",
      "text/plain": [
       "<matplotlib.figure.Figure at 0x7f001802e7b8>"
      ]
     },
     "metadata": {},
     "output_type": "display_data"
    }
   ],
   "source": [
    "X = data['Turn.circle'].values.reshape(-1,1)\n",
    "Y = data['Price'].values.reshape(-1,1)\n",
    "linear.fit(X,Y)\n",
    "print(\"score for Turn.circle: {}\".format(linear.score(X, Y)))\n",
    "Y_predict = linear.predict(X)\n",
    "plt.plot(X, Y_predict, label='modelo')\n",
    "plt.scatter(X, Y, label='datos', color='red')\n",
    "plt.legend()\n",
    "plt.xlabel('Turn.circle')\n",
    "_ = plt.ylabel('Price')"
   ]
  },
  {
   "cell_type": "markdown",
   "metadata": {},
   "source": [
    "De acuerdo al índice $R^2$, el mejor modelo es el de **Horsepower**."
   ]
  },
  {
   "cell_type": "code",
   "execution_count": 38,
   "metadata": {},
   "outputs": [
    {
     "name": "stdout",
     "output_type": "stream",
     "text": [
      "[-26.32351055] [[1.17650745]]\n"
     ]
    }
   ],
   "source": [
    "print(linear.intercept_,linear.coef_)"
   ]
  },
  {
   "cell_type": "markdown",
   "metadata": {},
   "source": [
    "## 6.2"
   ]
  },
  {
   "cell_type": "markdown",
   "metadata": {},
   "source": [
    "### Horsepower, MPG.highway"
   ]
  },
  {
   "cell_type": "code",
   "execution_count": 41,
   "metadata": {},
   "outputs": [
    {
     "data": {
      "image/png": "[encoded data removed]",
      "text/plain": [
       "<matplotlib.figure.Figure at 0x7f001ae74fd0>"
      ]
     },
     "metadata": {},
     "output_type": "display_data"
    }
   ],
   "source": [
    "X = data[['Horsepower','MPG.highway']]\n",
    "Y = data['Price'].values.reshape(-1,1)\n",
    "linear.fit(X,Y)\n",
    "Y_predict = linear.predict(X)\n",
    "plt.scatter(X['Horsepower'], Y_predict, label='modelo')\n",
    "plt.scatter(X['Horsepower'], Y, label='datos', color='red')\n",
    "plt.legend()\n",
    "plt.xlabel('Horsepower')\n",
    "_ = plt.ylabel('Price')"
   ]
  },
  {
   "cell_type": "code",
   "execution_count": 42,
   "metadata": {},
   "outputs": [
    {
     "data": {
      "image/png": "[encoded data removed]",
      "text/plain": [
       "<matplotlib.figure.Figure at 0x7f001ac43da0>"
      ]
     },
     "metadata": {},
     "output_type": "display_data"
    }
   ],
   "source": [
    "Y_predict = linear.predict(X)\n",
    "plt.scatter(X['MPG.highway'], Y_predict, label='modelo')\n",
    "plt.scatter(X['MPG.highway'], Y, label='datos', color='red')\n",
    "plt.legend()\n",
    "plt.xlabel('MPG.highway')\n",
    "_ = plt.ylabel('Price')"
   ]
  },
  {
   "cell_type": "code",
   "execution_count": 43,
   "metadata": {},
   "outputs": [
    {
     "name": "stdout",
     "output_type": "stream",
     "text": [
      "[6.75225042] [[ 0.13190677 -0.21365778]]\n"
     ]
    }
   ],
   "source": [
    "print(linear.intercept_,linear.coef_)"
   ]
  },
  {
   "cell_type": "code",
   "execution_count": 22,
   "metadata": {},
   "outputs": [
    {
     "name": "stdout",
     "output_type": "stream",
     "text": [
      "score for Horsepower,MPG.highway: 0.629865302134315\n"
     ]
    }
   ],
   "source": [
    "print(\"score for Horsepower,MPG.highway: {}\".format(linear.score(X, Y)))"
   ]
  },
  {
   "cell_type": "markdown",
   "metadata": {},
   "source": [
    "### Horsepower, Turn.circle"
   ]
  },
  {
   "cell_type": "code",
   "execution_count": 44,
   "metadata": {},
   "outputs": [
    {
     "data": {
      "image/png": "[encoded data removed]",
      "text/plain": [
       "<matplotlib.figure.Figure at 0x7f001b072be0>"
      ]
     },
     "metadata": {},
     "output_type": "display_data"
    }
   ],
   "source": [
    "X = data[['Horsepower','Turn.circle']]\n",
    "Y = data['Price'].values.reshape(-1,1)\n",
    "linear.fit(X,Y)\n",
    "Y_predict = linear.predict(X)\n",
    "plt.scatter(X['Horsepower'], Y_predict, label='modelo')\n",
    "plt.scatter(X['Horsepower'], Y, label='datos', color='red')\n",
    "plt.legend()\n",
    "plt.xlabel('Horsepower')\n",
    "_ = plt.ylabel('Price')"
   ]
  },
  {
   "cell_type": "code",
   "execution_count": 45,
   "metadata": {},
   "outputs": [
    {
     "data": {
      "image/png": "[encoded data removed]",
      "text/plain": [
       "<matplotlib.figure.Figure at 0x7f001ad002b0>"
      ]
     },
     "metadata": {},
     "output_type": "display_data"
    }
   ],
   "source": [
    "Y_predict = linear.predict(X)\n",
    "plt.scatter(X['Turn.circle'], Y_predict, label='modelo')\n",
    "plt.scatter(X['Turn.circle'], Y, label='datos', color='red')\n",
    "plt.legend()\n",
    "plt.xlabel('Turn.circle')\n",
    "_ = plt.ylabel('Price')"
   ]
  },
  {
   "cell_type": "code",
   "execution_count": 46,
   "metadata": {},
   "outputs": [
    {
     "name": "stdout",
     "output_type": "stream",
     "text": [
      "[6.00160489] [[ 0.15289122 -0.21772625]]\n"
     ]
    }
   ],
   "source": [
    "print(linear.intercept_,linear.coef_)"
   ]
  },
  {
   "cell_type": "code",
   "execution_count": 25,
   "metadata": {},
   "outputs": [
    {
     "name": "stdout",
     "output_type": "stream",
     "text": [
      "score for Horsepower,Turn.cirlce: 0.6249029173886568\n"
     ]
    }
   ],
   "source": [
    "print(\"score for Horsepower,Turn.cirlce: {}\".format(linear.score(X, Y)))"
   ]
  },
  {
   "cell_type": "markdown",
   "metadata": {},
   "source": [
    "### MPG.highway, Turn.circle"
   ]
  },
  {
   "cell_type": "code",
   "execution_count": 47,
   "metadata": {},
   "outputs": [
    {
     "data": {
      "image/png": "[encoded data removed]",
      "text/plain": [
       "<matplotlib.figure.Figure at 0x7f001ae74898>"
      ]
     },
     "metadata": {},
     "output_type": "display_data"
    }
   ],
   "source": [
    "X = data[['MPG.highway','Turn.circle']]\n",
    "Y = data['Price'].values.reshape(-1,1)\n",
    "linear.fit(X,Y)\n",
    "Y_predict = linear.predict(X)\n",
    "plt.scatter(X['MPG.highway'], Y_predict, label='modelo')\n",
    "plt.scatter(X['MPG.highway'], Y, label='datos', color='red')\n",
    "plt.legend()\n",
    "plt.xlabel('MPG.highway')\n",
    "_ = plt.ylabel('Price')"
   ]
  },
  {
   "cell_type": "code",
   "execution_count": 27,
   "metadata": {},
   "outputs": [
    {
     "data": {
      "image/png": "[encoded data removed]",
      "text/plain": [
       "<matplotlib.figure.Figure at 0x7f001183c9e8>"
      ]
     },
     "metadata": {},
     "output_type": "display_data"
    }
   ],
   "source": [
    "Y_predict = linear.predict(X)\n",
    "plt.scatter(X['Turn.circle'], Y_predict, label='modelo')\n",
    "plt.scatter(X['Turn.circle'], Y, label='datos', color='red')\n",
    "plt.legend()\n",
    "plt.xlabel('Turn.circle')\n",
    "_ = plt.ylabel('Price')"
   ]
  },
  {
   "cell_type": "code",
   "execution_count": 48,
   "metadata": {},
   "outputs": [
    {
     "name": "stdout",
     "output_type": "stream",
     "text": [
      "[35.4016788] [[-0.91657745  0.27639688]]\n"
     ]
    }
   ],
   "source": [
    "print(linear.intercept_,linear.coef_)"
   ]
  },
  {
   "cell_type": "code",
   "execution_count": 28,
   "metadata": {},
   "outputs": [
    {
     "name": "stdout",
     "output_type": "stream",
     "text": [
      "score for MPG.highway,Turn.cirlce: 0.3198708229328999\n"
     ]
    }
   ],
   "source": [
    "print(\"score for MPG.highway,Turn.cirlce: {}\".format(linear.score(X, Y)))"
   ]
  },
  {
   "cell_type": "markdown",
   "metadata": {},
   "source": [
    "De acuerdo con lo anterior, el mejor modelo para 2 variables es: **Horsepower, MPG.highway** "
   ]
  },
  {
   "cell_type": "markdown",
   "metadata": {},
   "source": [
    "## 6.4"
   ]
  },
  {
   "cell_type": "markdown",
   "metadata": {},
   "source": [
    "Horsepower MPG.highway Turn.circle"
   ]
  },
  {
   "cell_type": "code",
   "execution_count": 49,
   "metadata": {},
   "outputs": [
    {
     "data": {
      "image/png": "[encoded data removed]",
      "text/plain": [
       "<matplotlib.figure.Figure at 0x7f00114cd7b8>"
      ]
     },
     "metadata": {},
     "output_type": "display_data"
    }
   ],
   "source": [
    "X = data[['Horsepower','MPG.highway','Turn.circle']]\n",
    "Y = data['Price'].values.reshape(-1,1)\n",
    "linear.fit(X,Y)\n",
    "Y_predict = linear.predict(X)\n",
    "plt.scatter(X['MPG.highway'], Y_predict, label='modelo')\n",
    "plt.scatter(X['MPG.highway'], Y, label='datos', color='red')\n",
    "plt.legend()\n",
    "plt.xlabel('MPG.highway')\n",
    "_ = plt.ylabel('Price')"
   ]
  },
  {
   "cell_type": "code",
   "execution_count": 50,
   "metadata": {},
   "outputs": [
    {
     "data": {
      "image/png": "[encoded data removed]",
      "text/plain": [
       "<matplotlib.figure.Figure at 0x7f001aae3358>"
      ]
     },
     "metadata": {},
     "output_type": "display_data"
    }
   ],
   "source": [
    "Y_predict = linear.predict(X)\n",
    "plt.scatter(X['Turn.circle'], Y_predict, label='modelo')\n",
    "plt.scatter(X['Turn.circle'], Y, label='datos', color='red')\n",
    "plt.legend()\n",
    "plt.xlabel('Turn.circle')\n",
    "_ = plt.ylabel('Price')"
   ]
  },
  {
   "cell_type": "code",
   "execution_count": 51,
   "metadata": {},
   "outputs": [
    {
     "data": {
      "image/png": "[encoded data removed]",
      "text/plain": [
       "<matplotlib.figure.Figure at 0x7f00117c7a20>"
      ]
     },
     "metadata": {},
     "output_type": "display_data"
    }
   ],
   "source": [
    "plt.scatter(X['Horsepower'], Y_predict, label='modelo')\n",
    "plt.scatter(X['Horsepower'], Y, label='datos', color='red')\n",
    "plt.legend()\n",
    "plt.xlabel('Horsepower')\n",
    "_ = plt.ylabel('Price')"
   ]
  },
  {
   "cell_type": "code",
   "execution_count": 52,
   "metadata": {},
   "outputs": [
    {
     "name": "stdout",
     "output_type": "stream",
     "text": [
      "[24.14202012] [[ 0.1396872  -0.31082732 -0.40256029]]\n"
     ]
    }
   ],
   "source": [
    "print(linear.intercept_,linear.coef_)"
   ]
  },
  {
   "cell_type": "code",
   "execution_count": 32,
   "metadata": {},
   "outputs": [
    {
     "name": "stdout",
     "output_type": "stream",
     "text": [
      "score for Horsepower, MPG.highway and Turn.circle: 0.6404523210544847\n"
     ]
    }
   ],
   "source": [
    "print(\"score for Horsepower, MPG.highway and Turn.circle: {}\".format(linear.score(X, Y)))"
   ]
  },
  {
   "cell_type": "markdown",
   "metadata": {},
   "source": [
    "## 6.4"
   ]
  },
  {
   "cell_type": "code",
   "execution_count": 140,
   "metadata": {},
   "outputs": [],
   "source": [
    "def likelihood(ymodel, y_obs):\n",
    "    gamm = ymodel*np.exp(-ymodel/y_obs)/(y_obs**2)\n",
    "    return np.sum((gamm))"
   ]
  },
  {
   "cell_type": "code",
   "execution_count": 157,
   "metadata": {},
   "outputs": [],
   "source": [
    "Y = np.array(data['Price'].values)\n",
    "rango = 1\n",
    "N=1000"
   ]
  },
  {
   "cell_type": "code",
   "execution_count": 158,
   "metadata": {},
   "outputs": [
    {
     "name": "stdout",
     "output_type": "stream",
     "text": [
      "-39.66988373910656\n"
     ]
    }
   ],
   "source": [
    "bs = [-1.39,0.14]\n",
    "\n",
    "def modelito(x,a,b):\n",
    "    return a+b*x\n",
    "\n",
    "x = np.array(data[\"Horsepower\"])\n",
    "b0 = np.random.uniform(bs[0]-rango/2,bs[0]+rango/2,N)\n",
    "b1 = np.random.uniform(bs[1]-rango/2,bs[1]+rango/2,N)\n",
    "\n",
    "M = 0\n",
    "for n in range(N):\n",
    "    y_model = modelito(x,b0[n],b1[n])\n",
    "    M += likelihood(y_model,Y)\n",
    "M /= N\n",
    "print(M)\n"
   ]
  },
  {
   "cell_type": "code",
   "execution_count": 159,
   "metadata": {},
   "outputs": [
    {
     "name": "stdout",
     "output_type": "stream",
     "text": [
      "-136.646482190898\n"
     ]
    }
   ],
   "source": [
    "bs = [-26.32,0.17]\n",
    "\n",
    "def modelito(x,a,b):\n",
    "    return a+b*x\n",
    "\n",
    "x = np.array(data[\"Turn.circle\"])\n",
    "b0 = np.random.uniform(bs[0]-rango/2,bs[0]+rango/2,N)\n",
    "b1 = np.random.uniform(bs[1]-rango/2,bs[1]+rango/2,N)\n",
    "\n",
    "M = 0\n",
    "for n in range(N):\n",
    "    y_model = modelito(x,b0[n],b1[n])\n",
    "    M += likelihood(y_model,Y)\n",
    "M /= N\n",
    "print(M)\n"
   ]
  },
  {
   "cell_type": "code",
   "execution_count": 160,
   "metadata": {},
   "outputs": [
    {
     "name": "stdout",
     "output_type": "stream",
     "text": [
      "0.32928595367854285\n"
     ]
    }
   ],
   "source": [
    "bs = [49.05,-1.015]\n",
    "\n",
    "def modelito(x,a,b):\n",
    "    return a+b*x\n",
    "\n",
    "x = np.array(data[\"MPG.highway\"])\n",
    "b0 = np.random.uniform(bs[0]-rango/2,bs[0]+rango/2,N)\n",
    "b1 = np.random.uniform(bs[1]-rango/2,bs[1]+rango/2,N)\n",
    "\n",
    "M = 0\n",
    "for n in range(N):\n",
    "    y_model = modelito(x,b0[n],b1[n])\n",
    "    M += likelihood(y_model,Y)\n",
    "M /= N\n",
    "print(M)\n"
   ]
  },
  {
   "cell_type": "code",
   "execution_count": 161,
   "metadata": {},
   "outputs": [
    {
     "name": "stdout",
     "output_type": "stream",
     "text": [
      "-79.47827375819145\n"
     ]
    }
   ],
   "source": [
    "bs = [6.75,0.13,-0.21]\n",
    "\n",
    "def modelito(x1,x2,a,b,c):\n",
    "    return a+b*x1 + c*x2\n",
    "\n",
    "x = data[[\"Horsepower\",'MPG.highway']].values\n",
    "x1 = x[:,0]\n",
    "x2 = x[:,1]\n",
    "b0 = np.random.uniform(bs[0]-rango/2,bs[0]+rango/2,N)\n",
    "b1 = np.random.uniform(bs[1]-rango/2,bs[1]+rango/2,N)\n",
    "b2 = np.random.uniform(bs[2]-rango/2,bs[2]+rango/2,N)\n",
    "\n",
    "M = 0\n",
    "for n in range(N):\n",
    "    y_model = modelito(x1,x2,b0[n],b1[n],b2[n])\n",
    "    M += likelihood(y_model,Y)\n",
    "M /= N\n",
    "print(M)\n"
   ]
  },
  {
   "cell_type": "code",
   "execution_count": 162,
   "metadata": {},
   "outputs": [
    {
     "name": "stdout",
     "output_type": "stream",
     "text": [
      "-79.7919835739676\n"
     ]
    }
   ],
   "source": [
    "bs = [6.001,0.1528,-0.2177]\n",
    "\n",
    "def modelito(x1,x2,a,b,c):\n",
    "    return a+b*x1 + c*x2\n",
    "\n",
    "x = data[[\"Horsepower\",'Turn.circle']].values\n",
    "x1 = x[:,0]\n",
    "x2 = x[:,1]\n",
    "b0 = np.random.uniform(bs[0]-rango/2,bs[0]+rango/2,N)\n",
    "b1 = np.random.uniform(bs[1]-rango/2,bs[1]+rango/2,N)\n",
    "b2 = np.random.uniform(bs[2]-rango/2,bs[2]+rango/2,N)\n",
    "\n",
    "M = 0\n",
    "for n in range(N):\n",
    "    y_model = modelito(x1,x2,b0[n],b1[n],b2[n])\n",
    "    M += likelihood(y_model,Y)\n",
    "M /= N\n",
    "print(M)\n"
   ]
  },
  {
   "cell_type": "code",
   "execution_count": 163,
   "metadata": {},
   "outputs": [
    {
     "name": "stdout",
     "output_type": "stream",
     "text": [
      "-4.054051241497572\n"
     ]
    }
   ],
   "source": [
    "bs = [35.40,-0.916,0.276]\n",
    "\n",
    "def modelito(x1,x2,a,b,c):\n",
    "    return a+b*x1 + c*x2\n",
    "\n",
    "x = data[['MPG.highway','Turn.circle']].values\n",
    "x1 = x[:,0]\n",
    "x2 = x[:,1]\n",
    "b0 = np.random.uniform(bs[0]-rango/2,bs[0]+rango/2,N)\n",
    "b1 = np.random.uniform(bs[1]-rango/2,bs[1]+rango/2,N)\n",
    "b2 = np.random.uniform(bs[2]-rango/2,bs[2]+rango/2,N)\n",
    "\n",
    "M = 0\n",
    "for n in range(N):\n",
    "    y_model = modelito(x1,x2,b0[n],b1[n],b2[n])\n",
    "    M += likelihood(y_model,Y)\n",
    "M /= N\n",
    "print(M)\n"
   ]
  },
  {
   "cell_type": "code",
   "execution_count": 164,
   "metadata": {},
   "outputs": [
    {
     "name": "stdout",
     "output_type": "stream",
     "text": [
      "-11.639484546686703\n"
     ]
    }
   ],
   "source": [
    "bs = [24.1420,0.1396,-0.3108,-0.4025]\n",
    "\n",
    "def modelito(x1,x2,x3,a,b,c,d):\n",
    "    return a+b*x1 + c*x2\n",
    "\n",
    "x = data[[\"Horsepower\",'MPG.highway','Turn.circle']].values\n",
    "x1 = x[:,0]\n",
    "x2 = x[:,1]\n",
    "x3 = x[:,2]\n",
    "b0 = np.random.uniform(bs[0]-rango/2,bs[0]+rango/2,N)\n",
    "b1 = np.random.uniform(bs[1]-rango/2,bs[1]+rango/2,N)\n",
    "b2 = np.random.uniform(bs[2]-rango/2,bs[2]+rango/2,N)\n",
    "b3 = np.random.uniform(bs[3]-rango/2,bs[3]+rango/2,N)\n",
    "\n",
    "M = 0\n",
    "for n in range(N):\n",
    "    y_model = modelito(x1,x2,x3,b0[n],b1[n],b2[n],b3[n])\n",
    "    M += likelihood(y_model,Y)\n",
    "M /= N\n",
    "print(M)\n"
   ]
  },
  {
   "cell_type": "markdown",
   "metadata": {},
   "source": [
    "Segun lo anterior, el mejor modelo es el de 1 parametro: MPG.highway"
   ]
  },
  {
   "cell_type": "code",
   "execution_count": null,
   "metadata": {},
   "outputs": [],
   "source": []
  },
  {
   "cell_type": "code",
   "execution_count": null,
   "metadata": {},
   "outputs": [],
   "source": []
  }
 ],
 "metadata": {
  "kernelspec": {
   "display_name": "Python 3",
   "language": "python",
   "name": "python3"
  },
  "language_info": {
   "codemirror_mode": {
    "name": "ipython",
    "version": 3
   },
   "file_extension": ".py",
   "mimetype": "text/x-python",
   "name": "python",
   "nbconvert_exporter": "python",
   "pygments_lexer": "ipython3",
   "version": "3.6.4"
  }
 },
 "nbformat": 4,
 "nbformat_minor": 2
}
