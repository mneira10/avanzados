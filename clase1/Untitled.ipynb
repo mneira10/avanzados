{
 "cells": [
  {
   "cell_type": "code",
   "execution_count": 1,
   "metadata": {},
   "outputs": [
    {
     "name": "stdout",
     "output_type": "stream",
     "text": [
      "29.094\n"
     ]
    }
   ],
   "source": [
    "\n",
    "from random import randint\n",
    "numTimes = 0 \n",
    "for i in range(1000):\n",
    "    points = 0\n",
    "    counter = 0 \n",
    "\n",
    "\n",
    "    while(points<100):\n",
    "        points+=randint(1,6)\n",
    "        counter +=1\n",
    "        \n",
    "    numTimes +=counter\n",
    "    \n",
    "print(numTimes/1000)"
   ]
  },
  {
   "cell_type": "code",
   "execution_count": 2,
   "metadata": {},
   "outputs": [
    {
     "name": "stdout",
     "output_type": "stream",
     "text": [
      "29.097\n"
     ]
    }
   ],
   "source": [
    "from random import randint, random\n",
    "numTimes = 0 \n",
    "for i in range(1000):\n",
    "    points = 0\n",
    "    counter = 0 \n",
    "\n",
    "\n",
    "    while(points<100):\n",
    "        points+=int(random()*6+1)\n",
    "        counter +=1\n",
    "        \n",
    "    numTimes +=counter\n",
    "    \n",
    "print(numTimes/1000)"
   ]
  },
  {
   "cell_type": "code",
   "execution_count": null,
   "metadata": {},
   "outputs": [],
   "source": []
  }
 ],
 "metadata": {
  "kernelspec": {
   "display_name": "Python 3",
   "language": "python",
   "name": "python3"
  },
  "language_info": {
   "codemirror_mode": {
    "name": "ipython",
    "version": 3
   },
   "file_extension": ".py",
   "mimetype": "text/x-python",
   "name": "python",
   "nbconvert_exporter": "python",
   "pygments_lexer": "ipython3",
   "version": "3.6.4"
  }
 },
 "nbformat": 4,
 "nbformat_minor": 2
}
