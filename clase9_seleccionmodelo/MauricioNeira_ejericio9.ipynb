{
 "cells": [
  {
   "cell_type": "code",
   "execution_count": 6,
   "metadata": {},
   "outputs": [],
   "source": [
    "import numpy as np\n",
    "import matplotlib.pyplot as plt\n",
    "import pandas as pd"
   ]
  },
  {
   "cell_type": "code",
   "execution_count": 7,
   "metadata": {},
   "outputs": [],
   "source": [
    "data = pd.read_csv(\"years-lived-with-disability-vs-health-expenditure-per-capita.csv\",delimiter=',')"
   ]
  },
  {
   "cell_type": "code",
   "execution_count": 8,
   "metadata": {},
   "outputs": [],
   "source": [
    "data = data[data.Year == 2011]\n",
    "data = data.dropna()"
   ]
  },
  {
   "cell_type": "code",
   "execution_count": 9,
   "metadata": {},
   "outputs": [],
   "source": [
    "x_obs = np.array(data.Health_expenditure_per_capita_PPP)\n",
    "y_obs = np.array(data.Years_Lived_With_Disability)"
   ]
  },
  {
   "cell_type": "code",
   "execution_count": 209,
   "metadata": {},
   "outputs": [],
   "source": [
    "def model(x,m,b):\n",
    "    return m*x+b"
   ]
  },
  {
   "cell_type": "code",
   "execution_count": 210,
   "metadata": {},
   "outputs": [],
   "source": [
    "def dist(x,y,m,b):\n",
    "    A = -1\n",
    "    B = 1/m\n",
    "    C = -b/m\n",
    "    return abs(A*x+B*y+C)/((A**2+B**2)**0.5)\n",
    "\n",
    "def loglikelihood(x_obs, y_obs, m, b):\n",
    "    ymodel = model(x_obs,m,b)\n",
    "    gamm = ymodel*np.exp(-ymodel/y_obs)/(y_obs**2)\n",
    "    return np.sum(np.log(gamm))\n",
    "\n",
    "def logprior(m, b):\n",
    "    p = -np.inf\n",
    "    m_min = 0\n",
    "    m_max = 1E-2\n",
    "    b_min = 0\n",
    "    b_max = 20\n",
    "    if m < m_max and m >m_min and b >b_min and b<b_max:\n",
    "        p = np.log(1/((b_max-b_min)*(m_max-m_min)))\n",
    "    return p\n"
   ]
  },
  {
   "cell_type": "code",
   "execution_count": null,
   "metadata": {},
   "outputs": [],
   "source": []
  },
  {
   "cell_type": "code",
   "execution_count": 211,
   "metadata": {},
   "outputs": [],
   "source": [
    "N = 50000\n",
    "lista_m = [1/8000.0]\n",
    "lista_b = [10.0]\n",
    "# logposterior = [loglikelihood(x_obs, y_obs, lista_m[0], lista_b[0]) + logprior(lista_m[0], lista_b[0])]\n",
    "logposterior = [0]\n",
    "\n",
    "sigma_delta_m = 1E-4\n",
    "sigma_delta_b = 0.5\n",
    "\n",
    "for i in range(1,N):\n",
    "    propuesta_m  = lista_m[i-1] + np.random.normal()*sigma_delta_m\n",
    "    propuesta_b  = lista_b[i-1] + np.random.normal()*sigma_delta_b\n",
    "\n",
    "    logposterior_viejo = loglikelihood(x_obs, y_obs, lista_m[i-1], lista_b[i-1]) + logprior(lista_m[i-1], lista_b[i-1])\n",
    "    logposterior_nuevo = loglikelihood(x_obs, y_obs, propuesta_m , propuesta_b ) + logprior(propuesta_m , propuesta_b )\n",
    "\n",
    "    r = min(1,np.exp(logposterior_nuevo-logposterior_viejo))\n",
    "    alpha = np.random.random()\n",
    "    if(alpha<r):\n",
    "        lista_m.append(propuesta_m)\n",
    "        lista_b.append(propuesta_b)\n",
    "        logposterior.append(logposterior_nuevo)\n",
    "    else:\n",
    "        lista_m.append(lista_m[i-1])\n",
    "        lista_b.append(lista_b[i-1])\n",
    "        logposterior.append(logposterior_viejo)\n",
    "lista_m = np.array(lista_m)\n",
    "lista_b = np.array(lista_b)\n",
    "logposterior = np.array(logposterior)"
   ]
  },
  {
   "cell_type": "code",
   "execution_count": 212,
   "metadata": {},
   "outputs": [
    {
     "data": {
      "text/plain": [
       "[<matplotlib.lines.Line2D at 0x7f4464555fd0>]"
      ]
     },
     "execution_count": 212,
     "metadata": {},
     "output_type": "execute_result"
    },
    {
     "data": {
      "image/png": "[encoded data removed]",
      "text/plain": [
       "<matplotlib.figure.Figure at 0x7f44649aad30>"
      ]
     },
     "metadata": {},
     "output_type": "display_data"
    }
   ],
   "source": [
    "# yb,paramb = (np.histogram(lista_b,normed=True))\n",
    "# paramb=paramb[1:]\n",
    "\n",
    "# b = paramb[yb==max(yb)]\n",
    "\n",
    "# ym,paramm = (np.histogram(lista_m,normed=True))\n",
    "# paramm=paramm[1:]\n",
    "# m = paramm[ym==max(ym)]\n",
    "\n",
    "plt.scatter(data.Health_expenditure_per_capita_PPP,data.Years_Lived_With_Disability)\n",
    "xs = np.linspace(0,8000,1000)\n",
    "# ys = model(xs,m,b)\n",
    "ys = model(xs,np.mean(lista_m),np.mean(lista_b))\n",
    "plt.title(\"m = {:.2f} b = {:.2f} y= mx+b\".format(np.mean(lista_m),np.mean(lista_b)))\n",
    "plt.plot(xs,ys,c='orange')\n",
    "# plt.ylim(4,12)\n",
    "# plt.savefig(\"modelo1.pdf\")\n",
    "# plt.close()"
   ]
  },
  {
   "cell_type": "code",
   "execution_count": 213,
   "metadata": {},
   "outputs": [
    {
     "data": {
      "text/plain": [
       "(array([1.000e+00, 0.000e+00, 3.000e+00, 2.000e+00, 3.000e+00, 2.000e+00,\n",
       "        4.000e+00, 9.000e+00, 8.000e+00, 2.200e+01, 2.300e+01, 3.500e+01,\n",
       "        5.100e+01, 5.300e+01, 5.800e+01, 7.300e+01, 8.100e+01, 1.460e+02,\n",
       "        1.110e+02, 1.570e+02, 1.640e+02, 2.450e+02, 2.710e+02, 2.920e+02,\n",
       "        3.760e+02, 4.240e+02, 4.490e+02, 4.750e+02, 5.890e+02, 6.830e+02,\n",
       "        7.290e+02, 8.820e+02, 8.440e+02, 9.960e+02, 1.062e+03, 1.189e+03,\n",
       "        1.171e+03, 1.188e+03, 1.324e+03, 1.456e+03, 1.382e+03, 1.527e+03,\n",
       "        1.532e+03, 1.587e+03, 1.512e+03, 1.569e+03, 1.645e+03, 1.517e+03,\n",
       "        1.528e+03, 1.507e+03, 1.524e+03, 1.420e+03, 1.312e+03, 1.368e+03,\n",
       "        1.199e+03, 1.205e+03, 1.154e+03, 1.026e+03, 1.045e+03, 9.110e+02,\n",
       "        8.020e+02, 7.660e+02, 6.350e+02, 6.690e+02, 5.340e+02, 4.090e+02,\n",
       "        4.570e+02, 3.570e+02, 3.560e+02, 2.810e+02, 2.590e+02, 2.040e+02,\n",
       "        1.620e+02, 1.660e+02, 1.140e+02, 1.320e+02, 1.310e+02, 6.700e+01,\n",
       "        4.300e+01, 6.600e+01, 4.900e+01, 3.300e+01, 2.600e+01, 2.800e+01,\n",
       "        4.100e+01, 1.900e+01, 6.000e+00, 8.000e+00, 1.300e+01, 8.000e+00,\n",
       "        8.000e+00, 3.000e+00, 1.200e+01, 3.000e+00, 1.000e+00, 1.000e+00,\n",
       "        2.000e+00, 3.000e+00, 0.000e+00, 5.000e+00]),\n",
       " array([ 5.29810499,  5.36077581,  5.42344664,  5.48611747,  5.54878829,\n",
       "         5.61145912,  5.67412995,  5.73680077,  5.7994716 ,  5.86214243,\n",
       "         5.92481326,  5.98748408,  6.05015491,  6.11282574,  6.17549656,\n",
       "         6.23816739,  6.30083822,  6.36350904,  6.42617987,  6.4888507 ,\n",
       "         6.55152152,  6.61419235,  6.67686318,  6.739534  ,  6.80220483,\n",
       "         6.86487566,  6.92754648,  6.99021731,  7.05288814,  7.11555896,\n",
       "         7.17822979,  7.24090062,  7.30357144,  7.36624227,  7.4289131 ,\n",
       "         7.49158392,  7.55425475,  7.61692558,  7.67959641,  7.74226723,\n",
       "         7.80493806,  7.86760889,  7.93027971,  7.99295054,  8.05562137,\n",
       "         8.11829219,  8.18096302,  8.24363385,  8.30630467,  8.3689755 ,\n",
       "         8.43164633,  8.49431715,  8.55698798,  8.61965881,  8.68232963,\n",
       "         8.74500046,  8.80767129,  8.87034211,  8.93301294,  8.99568377,\n",
       "         9.05835459,  9.12102542,  9.18369625,  9.24636708,  9.3090379 ,\n",
       "         9.37170873,  9.43437956,  9.49705038,  9.55972121,  9.62239204,\n",
       "         9.68506286,  9.74773369,  9.81040452,  9.87307534,  9.93574617,\n",
       "         9.998417  , 10.06108782, 10.12375865, 10.18642948, 10.2491003 ,\n",
       "        10.31177113, 10.37444196, 10.43711278, 10.49978361, 10.56245444,\n",
       "        10.62512526, 10.68779609, 10.75046692, 10.81313775, 10.87580857,\n",
       "        10.9384794 , 11.00115023, 11.06382105, 11.12649188, 11.18916271,\n",
       "        11.25183353, 11.31450436, 11.37717519, 11.43984601, 11.50251684,\n",
       "        11.56518767]),\n",
       " <a list of 100 Patch objects>)"
      ]
     },
     "execution_count": 213,
     "metadata": {},
     "output_type": "execute_result"
    },
    {
     "data": {
      "image/png": "[encoded data removed]",
      "text/plain": [
       "<matplotlib.figure.Figure at 0x7f4464aa1470>"
      ]
     },
     "metadata": {},
     "output_type": "display_data"
    }
   ],
   "source": [
    "plt.hist(lista_b,bins=100)"
   ]
  },
  {
   "cell_type": "code",
   "execution_count": null,
   "metadata": {},
   "outputs": [],
   "source": []
  },
  {
   "cell_type": "code",
   "execution_count": 10,
   "metadata": {},
   "outputs": [],
   "source": [
    "\n",
    "def model2(x,a,b):\n",
    "    return a*np.log(x) + b\n",
    "\n",
    "def loglikelihood(x_obs, y_obs, sigma_y_obs, m, b):\n",
    "    ymodel = model2(x_obs,m,b)\n",
    "    gamm = ymodel*np.exp(-ymodel/y_obs)/(y_obs**2)\n",
    "    return np.sum(np.log(gamm))\n",
    "\n",
    "def logprior(m, b):\n",
    "    p = -np.inf\n",
    "    \n",
    "    m_min = 0.1\n",
    "    m_max = 2\n",
    "    b_min = -4\n",
    "    b_max = 12\n",
    "    if m < m_max and m >m_min and b >b_min and b<b_max:\n",
    "        p = np.log(1/((b_max-b_min)*(m_max-m_min)))\n",
    "    return p\n",
    "\n",
    "#     if m < 2 and m >0.1 and b >0 and b<3:\n",
    "#         p = 0.0\n",
    "#     return p\n"
   ]
  },
  {
   "cell_type": "code",
   "execution_count": 11,
   "metadata": {},
   "outputs": [],
   "source": [
    "N = 200000\n",
    "lista_m = [np.random.random()]\n",
    "lista_b = [np.random.random()]\n",
    "logposterior = [loglikelihood(x_obs, y_obs, 1, lista_m[0], lista_b[0]) + logprior(lista_m[0], lista_b[0])]\n",
    "\n",
    "sigma_delta_m = 0.01\n",
    "sigma_delta_b = 0.5\n",
    "\n",
    "for i in range(1,N):\n",
    "    propuesta_m  = lista_m[i-1] + np.random.normal(loc=0.0, scale=sigma_delta_m)\n",
    "    propuesta_b  = lista_b[i-1] + np.random.normal(loc=0.0, scale=sigma_delta_b)\n",
    "    while(propuesta_m<0 or propuesta_b<0):\n",
    "        propuesta_m  = lista_m[i-1] + np.random.normal(loc=0.0, scale=sigma_delta_m)\n",
    "        propuesta_b  = lista_b[i-1] + np.random.normal(loc=0.0, scale=sigma_delta_b)\n",
    "\n",
    "    logposterior_viejo = loglikelihood(x_obs, y_obs, 0.1, lista_m[i-1], lista_b[i-1]) + logprior(lista_m[i-1], lista_b[i-1])\n",
    "    logposterior_nuevo = loglikelihood(x_obs, y_obs, 0.1, propuesta_m, propuesta_b) + logprior(propuesta_m, propuesta_b)\n",
    "\n",
    "    r = min(1,np.exp(logposterior_nuevo-logposterior_viejo))\n",
    "    alpha = np.random.random()\n",
    "    if(alpha<r):\n",
    "        lista_m.append(propuesta_m)\n",
    "        lista_b.append(propuesta_b)\n",
    "        logposterior.append(logposterior_nuevo)\n",
    "    else:\n",
    "        lista_m.append(lista_m[i-1])\n",
    "        lista_b.append(lista_b[i-1])\n",
    "        logposterior.append(logposterior_viejo)\n",
    "lista_m = np.array(lista_m)\n",
    "lista_b = np.array(lista_b)\n",
    "logposterior = np.array(logposterior)"
   ]
  },
  {
   "cell_type": "code",
   "execution_count": 12,
   "metadata": {},
   "outputs": [
    {
     "name": "stdout",
     "output_type": "stream",
     "text": [
      "[0.90047509] [5.15596407]\n"
     ]
    },
    {
     "data": {
      "image/png": "[encoded data removed]",
      "text/plain": [
       "<matplotlib.figure.Figure at 0x7fa2a823e390>"
      ]
     },
     "metadata": {},
     "output_type": "display_data"
    }
   ],
   "source": [
    "yb,paramb = (np.histogram(lista_b,normed=True))\n",
    "paramb=paramb[1:]\n",
    "\n",
    "b = paramb[yb==max(yb)]\n",
    "\n",
    "ym,paramm = (np.histogram(lista_m,normed=True))\n",
    "paramm=paramm[1:]\n",
    "m = paramm[ym==max(ym)]\n",
    "\n",
    "print(m,b)\n",
    "\n",
    "plt.scatter(data.Health_expenditure_per_capita_PPP,data.Years_Lived_With_Disability)\n",
    "xs = np.linspace(0.02001,8000,1000)\n",
    "ys = model2(xs,m,b)\n",
    "plt.title(\"m = {:.2f} b = {:.2f} y = mlnx + b\".format(m[0],b[0]))\n",
    "plt.plot(xs,ys,c='orange')\n",
    "# plt.ylim(4,13)\n",
    "plt.savefig('modelo2.pdf')"
   ]
  },
  {
   "cell_type": "code",
   "execution_count": 14,
   "metadata": {},
   "outputs": [
    {
     "data": {
      "text/plain": [
       "(array([1.819e+03, 2.615e+03, 3.739e+03, 4.358e+03, 4.826e+03, 5.217e+03,\n",
       "        5.599e+03, 5.810e+03, 6.249e+03, 6.539e+03, 7.131e+03, 7.558e+03,\n",
       "        7.961e+03, 8.295e+03, 8.273e+03, 8.239e+03, 7.776e+03, 7.596e+03,\n",
       "        7.323e+03, 7.213e+03, 7.321e+03, 7.452e+03, 7.426e+03, 7.211e+03,\n",
       "        7.001e+03, 6.737e+03, 6.418e+03, 6.048e+03, 5.412e+03, 4.599e+03,\n",
       "        3.712e+03, 2.752e+03, 1.693e+03, 1.041e+03, 5.210e+02, 2.650e+02,\n",
       "        1.500e+02, 6.600e+01, 3.400e+01, 5.000e+00]),\n",
       " array([9.69047431e-05, 2.66825108e-01, 5.33553312e-01, 8.00281515e-01,\n",
       "        1.06700972e+00, 1.33373792e+00, 1.60046613e+00, 1.86719433e+00,\n",
       "        2.13392253e+00, 2.40065074e+00, 2.66737894e+00, 2.93410714e+00,\n",
       "        3.20083535e+00, 3.46756355e+00, 3.73429175e+00, 4.00101996e+00,\n",
       "        4.26774816e+00, 4.53447637e+00, 4.80120457e+00, 5.06793277e+00,\n",
       "        5.33466098e+00, 5.60138918e+00, 5.86811738e+00, 6.13484559e+00,\n",
       "        6.40157379e+00, 6.66830199e+00, 6.93503020e+00, 7.20175840e+00,\n",
       "        7.46848660e+00, 7.73521481e+00, 8.00194301e+00, 8.26867121e+00,\n",
       "        8.53539942e+00, 8.80212762e+00, 9.06885583e+00, 9.33558403e+00,\n",
       "        9.60231223e+00, 9.86904044e+00, 1.01357686e+01, 1.04024968e+01,\n",
       "        1.06692250e+01]),\n",
       " <a list of 40 Patch objects>)"
      ]
     },
     "execution_count": 14,
     "metadata": {},
     "output_type": "execute_result"
    },
    {
     "data": {
      "image/png": "[encoded data removed]",
      "text/plain": [
       "<matplotlib.figure.Figure at 0x7f164fe844e0>"
      ]
     },
     "metadata": {},
     "output_type": "display_data"
    }
   ],
   "source": [
    "plt.hist(lista_b,bins=40)"
   ]
  },
  {
   "cell_type": "code",
   "execution_count": 19,
   "metadata": {},
   "outputs": [],
   "source": [
    "\n",
    "def model3(x,a,b,c):\n",
    "    return a*np.log(x-b) + c\n",
    "\n",
    "def loglikelihood(x_obs, y_obs, m, b,c):\n",
    "    ymodel = model3(x_obs,m,b,c)\n",
    "    gamm = ymodel*np.exp(-ymodel/y_obs)/(y_obs**2)\n",
    "    return np.sum(np.log(gamm))\n",
    "\n",
    "def logprior(m, b,c):\n",
    "    p = -np.inf\n",
    "    \n",
    "    m_min = 0.1\n",
    "    m_max = 2\n",
    "    b_min = -4\n",
    "    b_max = 12\n",
    "    c_min = -10\n",
    "    c_max = 10\n",
    "    \n",
    "    if m < m_max and m >m_min and b >b_min and b<b_max and c<c_max and c>c_min:\n",
    "        p = np.log(1/((b_max-b_min)*(m_max-m_min)*(c_max-c_min)))\n",
    "    return p\n",
    "\n",
    "#     if m < 2 and m >0.1 and b >0 and b<3:\n",
    "#         p = 0.0\n",
    "#     return p\n"
   ]
  },
  {
   "cell_type": "code",
   "execution_count": 21,
   "metadata": {},
   "outputs": [],
   "source": [
    "N = 50000\n",
    "lista_m = [np.random.random()]\n",
    "lista_b = [np.random.random()]\n",
    "lista_c = [np.random.random()]\n",
    "logposterior = [loglikelihood(x_obs, y_obs,lista_m[0], lista_b[0],lista_c[0]) + logprior(lista_m[0], lista_b[0],lista_c[0])]\n",
    "\n",
    "sigma_delta_m = 0.01\n",
    "sigma_delta_b = 0.5\n",
    "sigma_delta_c = 0.5\n",
    "\n",
    "for i in range(1,N):\n",
    "    propuesta_m  = lista_m[i-1] + np.random.normal(loc=0.0, scale=sigma_delta_m)\n",
    "    propuesta_b  = lista_b[i-1] + np.random.normal(loc=0.0, scale=sigma_delta_b)\n",
    "    propuesta_c  = lista_c[i-1] + np.random.normal(loc=0.0, scale=sigma_delta_c)\n",
    "    \n",
    "    \n",
    "#     while(propuesta_m<0 or propuesta_b<0):\n",
    "#         propuesta_m  = lista_m[i-1] + np.random.normal(loc=0.0, scale=sigma_delta_m)\n",
    "#         propuesta_b  = lista_b[i-1] + np.random.normal(loc=0.0, scale=sigma_delta_b)\n",
    "\n",
    "    logposterior_viejo = loglikelihood(x_obs, y_obs,  lista_m[i-1], lista_b[i-1],lista_c[i-1]) + logprior(lista_m[i-1], lista_b[i-1],lista_c[i-1])\n",
    "    logposterior_nuevo = loglikelihood(x_obs, y_obs,  propuesta_m, propuesta_b,propuesta_c) + logprior(propuesta_m, propuesta_b,propuesta_c)\n",
    "\n",
    "    r = min(1,np.exp(logposterior_nuevo-logposterior_viejo))\n",
    "    alpha = np.random.random()\n",
    "    if(alpha<r):\n",
    "        lista_m.append(propuesta_m)\n",
    "        lista_b.append(propuesta_b)\n",
    "        lista_c.append(propuesta_c)\n",
    "        logposterior.append(logposterior_nuevo)\n",
    "    else:\n",
    "        lista_m.append(lista_m[i-1])\n",
    "        lista_b.append(lista_b[i-1])\n",
    "        lista_c.append(lista_c[i-1])\n",
    "        logposterior.append(logposterior_viejo)\n",
    "lista_m = np.array(lista_m)\n",
    "lista_b = np.array(lista_b)\n",
    "lista_c = np.array(lista_c)\n",
    "logposterior = np.array(logposterior)"
   ]
  },
  {
   "cell_type": "code",
   "execution_count": 22,
   "metadata": {},
   "outputs": [
    {
     "name": "stderr",
     "output_type": "stream",
     "text": [
      "/home/mauro/anaconda3/lib/python3.6/site-packages/ipykernel_launcher.py:3: RuntimeWarning: invalid value encountered in log\n",
      "  This is separate from the ipykernel package so we can avoid doing imports until\n"
     ]
    },
    {
     "data": {
      "text/plain": [
       "[<matplotlib.lines.Line2D at 0x7fa2a79d4198>]"
      ]
     },
     "execution_count": 22,
     "metadata": {},
     "output_type": "execute_result"
    },
    {
     "data": {
      "image/png": "[encoded data removed]",
      "text/plain": [
       "<matplotlib.figure.Figure at 0x7fa2a79f0240>"
      ]
     },
     "metadata": {},
     "output_type": "display_data"
    }
   ],
   "source": [
    "plt.scatter(data.Health_expenditure_per_capita_PPP,data.Years_Lived_With_Disability)\n",
    "xs = np.linspace(0.02001,8000,1000)\n",
    "ys = model3(xs,np.mean(lista_m),np.mean(lista_b),np.mean(lista_c))\n",
    "plt.title(\"m = {:.2f} b = {:.2f} y = mlnx + b\".format(m[0],b[0]))\n",
    "plt.plot(xs,ys,c='orange')"
   ]
  },
  {
   "cell_type": "code",
   "execution_count": null,
   "metadata": {},
   "outputs": [],
   "source": [
    "\n",
    "\n"
   ]
  },
  {
   "cell_type": "markdown",
   "metadata": {},
   "source": [
    "## Para M1"
   ]
  },
  {
   "cell_type": "code",
   "execution_count": 26,
   "metadata": {},
   "outputs": [
    {
     "data": {
      "text/plain": [
       "5.524185307964665"
      ]
     },
     "execution_count": 26,
     "metadata": {},
     "output_type": "execute_result"
    }
   ],
   "source": [
    "m_min = 0\n",
    "m_max = 1E-2\n",
    "b_min = 0\n",
    "b_max = 20\n",
    "\n",
    "N=1000\n",
    "\n",
    "ms = np.random.uniform(m_min,m_max,N)\n",
    "bs = np.random.uniform(b_min,b_max,N)\n",
    "def model(x,m,b):\n",
    "    return m*x+b\n",
    "def likelihood(x_obs, y_obs, m, b):\n",
    "    ymodel = model(x_obs,m,b)\n",
    "    gamm = ymodel*np.exp(-ymodel/y_obs)/(y_obs**2)\n",
    "    return np.sum(gamm)\n",
    "\n",
    "M1 = 0\n",
    "for n in range(N):\n",
    "    M1 += likelihood(x_obs,y_obs,ms[n],bs[n])\n",
    "M1 /= N\n",
    "M1\n"
   ]
  },
  {
   "cell_type": "markdown",
   "metadata": {},
   "source": [
    "## Para M2"
   ]
  },
  {
   "cell_type": "code",
   "execution_count": 33,
   "metadata": {},
   "outputs": [
    {
     "data": {
      "text/plain": [
       "5.784598344869585"
      ]
     },
     "execution_count": 33,
     "metadata": {},
     "output_type": "execute_result"
    }
   ],
   "source": [
    "def model2(x,a,b):\n",
    "    return a*np.log(x) + b\n",
    "def likelihood(x_obs, y_obs, m, b):\n",
    "    ymodel = model2(x_obs,m,b)\n",
    "    gamm = ymodel*np.exp(-ymodel/y_obs)/(y_obs**2)\n",
    "    return np.sum(gamm)\n",
    "\n",
    "\n",
    "m_min = 0.1\n",
    "m_max = 2\n",
    "b_min = -4\n",
    "b_max = 12\n",
    "\n",
    "N=1000\n",
    "\n",
    "ms = np.random.uniform(m_min,m_max,N)\n",
    "bs = np.random.uniform(b_min,b_max,N)\n",
    "\n",
    "\n",
    "M2 = 0\n",
    "for n in range(N):\n",
    "    M2 += likelihood(x_obs,y_obs,ms[n],bs[n])\n",
    "M2 /= N\n",
    "M2\n"
   ]
  },
  {
   "cell_type": "markdown",
   "metadata": {},
   "source": [
    "## Para M3"
   ]
  },
  {
   "cell_type": "code",
   "execution_count": 34,
   "metadata": {},
   "outputs": [
    {
     "data": {
      "text/plain": [
       "1.7927794721562518"
      ]
     },
     "execution_count": 34,
     "metadata": {},
     "output_type": "execute_result"
    }
   ],
   "source": [
    "\n",
    "def model3(x,a,b,c):\n",
    "    return a*np.log(x-b) + c\n",
    "\n",
    "def likelihood(x_obs, y_obs, m, b,c):\n",
    "    ymodel = model3(x_obs,m,b,c)\n",
    "    gamm = ymodel*np.exp(-ymodel/y_obs)/(y_obs**2)\n",
    "    return np.sum((gamm))\n",
    "    \n",
    "m_min = 0.1\n",
    "m_max = 2\n",
    "b_min = -4\n",
    "b_max = 12\n",
    "c_min = -10\n",
    "c_max = 10\n",
    "\n",
    "\n",
    "N=1000\n",
    "\n",
    "ms = np.random.uniform(m_min,m_max,N)\n",
    "bs = np.random.uniform(b_min,b_max,N)\n",
    "cs = np.random.uniform(c_min,c_max,N)\n",
    "M3 = 0\n",
    "for n in range(N):\n",
    "    M3 += likelihood(x_obs,y_obs,ms[n],bs[n],cs[n])\n",
    "M3 /= N\n",
    "M3\n",
    "\n",
    "    "
   ]
  },
  {
   "cell_type": "code",
   "execution_count": 35,
   "metadata": {},
   "outputs": [
    {
     "name": "stdout",
     "output_type": "stream",
     "text": [
      "0.9549816562223575 3.0813523881554117 3.2266089804744382\n"
     ]
    }
   ],
   "source": [
    "F12 = M1/M2\n",
    "F13 = M1/M3\n",
    "F23 = M2/M3\n",
    "print(F12,F13,F23)"
   ]
  },
  {
   "cell_type": "code",
   "execution_count": null,
   "metadata": {},
   "outputs": [],
   "source": []
  }
 ],
 "metadata": {
  "kernelspec": {
   "display_name": "Python 3",
   "language": "python",
   "name": "python3"
  },
  "language_info": {
   "codemirror_mode": {
    "name": "ipython",
    "version": 3
   },
   "file_extension": ".py",
   "mimetype": "text/x-python",
   "name": "python",
   "nbconvert_exporter": "python",
   "pygments_lexer": "ipython3",
   "version": "3.6.4"
  }
 },
 "nbformat": 4,
 "nbformat_minor": 2
}
