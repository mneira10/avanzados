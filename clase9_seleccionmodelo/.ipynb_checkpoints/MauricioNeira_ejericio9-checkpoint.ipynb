{
 "cells": [
  {
   "cell_type": "code",
   "execution_count": 74,
   "metadata": {},
   "outputs": [],
   "source": [
    "import numpy as np\n",
    "import matplotlib.pyplot as plt\n",
    "import pandas as pd"
   ]
  },
  {
   "cell_type": "code",
   "execution_count": 75,
   "metadata": {},
   "outputs": [],
   "source": [
    "data = pd.read_csv(\"years-lived-with-disability-vs-health-expenditure-per-capita.csv\",delimiter=',')"
   ]
  },
  {
   "cell_type": "code",
   "execution_count": 76,
   "metadata": {},
   "outputs": [],
   "source": [
    "data = data[data.Year == 2011]\n",
    "data = data.dropna()"
   ]
  },
  {
   "cell_type": "code",
   "execution_count": 77,
   "metadata": {},
   "outputs": [],
   "source": [
    "# data.head()"
   ]
  },
  {
   "cell_type": "code",
   "execution_count": 78,
   "metadata": {},
   "outputs": [],
   "source": [
    "# plt.scatter(data.Health_expenditure_per_capita_PPP,data.Years_Lived_With_Disability)"
   ]
  },
  {
   "cell_type": "code",
   "execution_count": 79,
   "metadata": {},
   "outputs": [],
   "source": [
    "x_obs = np.array(data.Health_expenditure_per_capita_PPP)\n",
    "y_obs = np.array(data.Years_Lived_With_Disability)"
   ]
  },
  {
   "cell_type": "code",
   "execution_count": 80,
   "metadata": {},
   "outputs": [],
   "source": [
    "def model(x,m,b):\n",
    "    return m*x+b"
   ]
  },
  {
   "cell_type": "code",
   "execution_count": 81,
   "metadata": {},
   "outputs": [],
   "source": [
    "def dist(x,y,m,b):\n",
    "    A = -1\n",
    "    B = 1/m\n",
    "    C = -b/m\n",
    "    return abs(A*x+B*y+C)/((A**2+B**2)**0.5)\n",
    "\n",
    "def loglikelihood(x_obs, y_obs, m, b):\n",
    "    ymodel = model(x_obs,m,b)\n",
    "    gamm = ymodel*np.exp(-ymodel/y_obs)/(y_obs**2)\n",
    "    return np.sum(np.log(gamm))\n",
    "\n",
    "def logprior(m, b):\n",
    "    p = -np.inf\n",
    "    m_min = 0\n",
    "    m_max = 1E-2\n",
    "    b_min = 0\n",
    "    b_max = 20\n",
    "    if m < m_max and m >m_min and b >b_min and b<b_max:\n",
    "        p = np.log(1/((b_max-b_min)*(m_max-m_min)))\n",
    "    return p\n"
   ]
  },
  {
   "cell_type": "code",
   "execution_count": null,
   "metadata": {},
   "outputs": [],
   "source": []
  },
  {
   "cell_type": "code",
   "execution_count": 82,
   "metadata": {},
   "outputs": [],
   "source": [
    "N = 50000\n",
    "lista_m = [1/8000.0]\n",
    "lista_b = [10.0]\n",
    "# logposterior = [loglikelihood(x_obs, y_obs, lista_m[0], lista_b[0]) + logprior(lista_m[0], lista_b[0])]\n",
    "logposterior = [0]\n",
    "\n",
    "sigma_delta_m = 1E-4\n",
    "sigma_delta_b = 0.5\n",
    "\n",
    "for i in range(1,N):\n",
    "    propuesta_m  = lista_m[i-1] + np.random.normal()*sigma_delta_m\n",
    "    propuesta_b  = lista_b[i-1] + np.random.normal()*sigma_delta_b\n",
    "\n",
    "    logposterior_viejo = loglikelihood(x_obs, y_obs, lista_m[i-1], lista_b[i-1]) + logprior(lista_m[i-1], lista_b[i-1])\n",
    "    logposterior_nuevo = loglikelihood(x_obs, y_obs, propuesta_m , propuesta_b ) + logprior(propuesta_m , propuesta_b )\n",
    "\n",
    "    r = min(1,np.exp(logposterior_nuevo-logposterior_viejo))\n",
    "    alpha = np.random.random()\n",
    "    if(alpha<r):\n",
    "        lista_m.append(propuesta_m)\n",
    "        lista_b.append(propuesta_b)\n",
    "        logposterior.append(logposterior_nuevo)\n",
    "    else:\n",
    "        lista_m.append(lista_m[i-1])\n",
    "        lista_b.append(lista_b[i-1])\n",
    "        logposterior.append(logposterior_viejo)\n",
    "lista_m = np.array(lista_m)\n",
    "lista_b = np.array(lista_b)\n",
    "logposterior = np.array(logposterior)"
   ]
  },
  {
   "cell_type": "code",
   "execution_count": 83,
   "metadata": {},
   "outputs": [
    {
     "data": {
      "text/plain": [
       "[<matplotlib.lines.Line2D at 0x7f446be39c50>]"
      ]
     },
     "execution_count": 83,
     "metadata": {},
     "output_type": "execute_result"
    },
    {
     "data": {
      "image/png": "[encoded data removed]",
      "text/plain": [
       "<matplotlib.figure.Figure at 0x7f446be394a8>"
      ]
     },
     "metadata": {},
     "output_type": "display_data"
    }
   ],
   "source": [
    "# yb,paramb = (np.histogram(lista_b,normed=True))\n",
    "# paramb=paramb[1:]\n",
    "\n",
    "# b = paramb[yb==max(yb)]\n",
    "\n",
    "# ym,paramm = (np.histogram(lista_m,normed=True))\n",
    "# paramm=paramm[1:]\n",
    "# m = paramm[ym==max(ym)]\n",
    "\n",
    "plt.scatter(data.Health_expenditure_per_capita_PPP,data.Years_Lived_With_Disability)\n",
    "xs = np.linspace(0,8000,1000)\n",
    "# ys = model(xs,m,b)\n",
    "ys = model(xs,np.mean(lista_m),np.mean(lista_b))\n",
    "plt.title(\"m = {:.2f} b = {:.2f} y= mx+b\".format(np.mean(lista_m),np.mean(lista_b)))\n",
    "plt.plot(xs,ys,c='orange')\n",
    "# plt.ylim(4,12)\n",
    "# plt.savefig(\"modelo1.pdf\")\n",
    "# plt.close()"
   ]
  },
  {
   "cell_type": "code",
   "execution_count": 85,
   "metadata": {},
   "outputs": [
    {
     "data": {
      "text/plain": [
       "(array([6.000e+00, 4.000e+00, 0.000e+00, 6.000e+00, 3.000e+00, 5.000e+00,\n",
       "        1.100e+01, 2.200e+01, 2.600e+01, 1.900e+01, 4.200e+01, 3.300e+01,\n",
       "        4.500e+01, 7.000e+01, 5.800e+01, 9.400e+01, 8.400e+01, 1.240e+02,\n",
       "        1.150e+02, 1.500e+02, 1.990e+02, 2.150e+02, 2.450e+02, 3.050e+02,\n",
       "        3.050e+02, 3.660e+02, 4.360e+02, 4.720e+02, 4.920e+02, 6.020e+02,\n",
       "        7.060e+02, 7.510e+02, 7.210e+02, 7.880e+02, 8.500e+02, 9.710e+02,\n",
       "        1.068e+03, 1.115e+03, 1.191e+03, 1.137e+03, 1.228e+03, 1.328e+03,\n",
       "        1.354e+03, 1.375e+03, 1.386e+03, 1.315e+03, 1.527e+03, 1.396e+03,\n",
       "        1.421e+03, 1.522e+03, 1.449e+03, 1.420e+03, 1.352e+03, 1.335e+03,\n",
       "        1.311e+03, 1.212e+03, 1.178e+03, 1.122e+03, 1.086e+03, 1.005e+03,\n",
       "        9.080e+02, 8.570e+02, 8.360e+02, 7.600e+02, 7.520e+02, 6.540e+02,\n",
       "        5.960e+02, 5.560e+02, 4.510e+02, 4.150e+02, 3.890e+02, 3.720e+02,\n",
       "        2.790e+02, 2.890e+02, 2.560e+02, 2.560e+02, 1.770e+02, 1.590e+02,\n",
       "        1.370e+02, 1.210e+02, 9.200e+01, 1.150e+02, 6.400e+01, 6.800e+01,\n",
       "        5.600e+01, 4.200e+01, 2.700e+01, 4.400e+01, 2.600e+01, 1.500e+01,\n",
       "        1.500e+01, 1.300e+01, 7.000e+00, 6.000e+00, 9.000e+00, 1.000e+00,\n",
       "        2.000e+00, 0.000e+00, 2.000e+00, 2.000e+00]),\n",
       " array([ 5.40330585,  5.46073207,  5.51815828,  5.5755845 ,  5.63301072,\n",
       "         5.69043694,  5.74786315,  5.80528937,  5.86271559,  5.9201418 ,\n",
       "         5.97756802,  6.03499424,  6.09242046,  6.14984667,  6.20727289,\n",
       "         6.26469911,  6.32212532,  6.37955154,  6.43697776,  6.49440398,\n",
       "         6.55183019,  6.60925641,  6.66668263,  6.72410884,  6.78153506,\n",
       "         6.83896128,  6.8963875 ,  6.95381371,  7.01123993,  7.06866615,\n",
       "         7.12609236,  7.18351858,  7.2409448 ,  7.29837101,  7.35579723,\n",
       "         7.41322345,  7.47064967,  7.52807588,  7.5855021 ,  7.64292832,\n",
       "         7.70035453,  7.75778075,  7.81520697,  7.87263319,  7.9300594 ,\n",
       "         7.98748562,  8.04491184,  8.10233805,  8.15976427,  8.21719049,\n",
       "         8.27461671,  8.33204292,  8.38946914,  8.44689536,  8.50432157,\n",
       "         8.56174779,  8.61917401,  8.67660023,  8.73402644,  8.79145266,\n",
       "         8.84887888,  8.90630509,  8.96373131,  9.02115753,  9.07858375,\n",
       "         9.13600996,  9.19343618,  9.2508624 ,  9.30828861,  9.36571483,\n",
       "         9.42314105,  9.48056727,  9.53799348,  9.5954197 ,  9.65284592,\n",
       "         9.71027213,  9.76769835,  9.82512457,  9.88255078,  9.939977  ,\n",
       "         9.99740322, 10.05482944, 10.11225565, 10.16968187, 10.22710809,\n",
       "        10.2845343 , 10.34196052, 10.39938674, 10.45681296, 10.51423917,\n",
       "        10.57166539, 10.62909161, 10.68651782, 10.74394404, 10.80137026,\n",
       "        10.85879648, 10.91622269, 10.97364891, 11.03107513, 11.08850134,\n",
       "        11.14592756]),\n",
       " <a list of 100 Patch objects>)"
      ]
     },
     "execution_count": 85,
     "metadata": {},
     "output_type": "execute_result"
    },
    {
     "data": {
      "image/png": "[encoded data removed]",
      "text/plain": [
       "<matplotlib.figure.Figure at 0x7f446bec2828>"
      ]
     },
     "metadata": {},
     "output_type": "display_data"
    }
   ],
   "source": [
    "plt.hist(lista_b,bins=100)"
   ]
  },
  {
   "cell_type": "code",
   "execution_count": null,
   "metadata": {},
   "outputs": [],
   "source": []
  },
  {
   "cell_type": "code",
   "execution_count": 86,
   "metadata": {},
   "outputs": [],
   "source": [
    "\n",
    "def model2(x,a,b):\n",
    "    return a*np.log(x) + b\n",
    "\n",
    "def loglikelihood(x_obs, y_obs, sigma_y_obs, m, b):\n",
    "    ymodel = model2(x_obs,m,b)\n",
    "    gamm = ymodel*np.exp(-ymodel/y_obs)/(y_obs**2)\n",
    "    return np.sum(np.log(gamm))\n",
    "\n",
    "def logprior(m, b):\n",
    "    p = -np.inf\n",
    "    \n",
    "    m_min = 0.1\n",
    "    m_max = 2\n",
    "    b_min = 0\n",
    "    b_max = 3\n",
    "    if m < m_max and m >m_min and b >b_min and b<b_max:\n",
    "        p = np.log(1/((b_max-b_min)*(m_max-m_min)))\n",
    "    return p\n",
    "\n",
    "#     if m < 2 and m >0.1 and b >0 and b<3:\n",
    "#         p = 0.0\n",
    "#     return p\n"
   ]
  },
  {
   "cell_type": "code",
   "execution_count": 87,
   "metadata": {},
   "outputs": [],
   "source": [
    "N = 200000\n",
    "lista_m = [np.random.random()]\n",
    "lista_b = [np.random.random()]\n",
    "logposterior = [loglikelihood(x_obs, y_obs, 1, lista_m[0], lista_b[0]) + logprior(lista_m[0], lista_b[0])]\n",
    "\n",
    "sigma_delta_m = 0.01\n",
    "sigma_delta_b = 0.01\n",
    "\n",
    "for i in range(1,N):\n",
    "    propuesta_m  = lista_m[i-1] + np.random.normal(loc=0.0, scale=sigma_delta_m)\n",
    "    propuesta_b  = lista_b[i-1] + np.random.normal(loc=0.0, scale=sigma_delta_b)\n",
    "    while(propuesta_m<0 or propuesta_b<0):\n",
    "        propuesta_m  = lista_m[i-1] + np.random.normal(loc=0.0, scale=sigma_delta_m)\n",
    "        propuesta_b  = lista_b[i-1] + np.random.normal(loc=0.0, scale=sigma_delta_b)\n",
    "\n",
    "    logposterior_viejo = loglikelihood(x_obs, y_obs, 0.1, lista_m[i-1], lista_b[i-1]) + logprior(lista_m[i-1], lista_b[i-1])\n",
    "    logposterior_nuevo = loglikelihood(x_obs, y_obs, 0.1, propuesta_m, propuesta_b) + logprior(propuesta_m, propuesta_b)\n",
    "\n",
    "    r = min(1,np.exp(logposterior_nuevo-logposterior_viejo))\n",
    "    alpha = np.random.random()\n",
    "    if(alpha<r):\n",
    "        lista_m.append(propuesta_m)\n",
    "        lista_b.append(propuesta_b)\n",
    "        logposterior.append(logposterior_nuevo)\n",
    "    else:\n",
    "        lista_m.append(lista_m[i-1])\n",
    "        lista_b.append(lista_b[i-1])\n",
    "        logposterior.append(logposterior_viejo)\n",
    "lista_m = np.array(lista_m)\n",
    "lista_b = np.array(lista_b)\n",
    "logposterior = np.array(logposterior)"
   ]
  },
  {
   "cell_type": "code",
   "execution_count": 88,
   "metadata": {},
   "outputs": [
    {
     "name": "stdout",
     "output_type": "stream",
     "text": [
      "[1.40821819] [0.90000517]\n"
     ]
    },
    {
     "data": {
      "image/png": "[encoded data removed]",
      "text/plain": [
       "<matplotlib.figure.Figure at 0x7f446b86bc88>"
      ]
     },
     "metadata": {},
     "output_type": "display_data"
    }
   ],
   "source": [
    "yb,paramb = (np.histogram(lista_b,normed=True))\n",
    "paramb=paramb[1:]\n",
    "\n",
    "b = paramb[yb==max(yb)]\n",
    "\n",
    "ym,paramm = (np.histogram(lista_m,normed=True))\n",
    "paramm=paramm[1:]\n",
    "m = paramm[ym==max(ym)]\n",
    "\n",
    "print(m,b)\n",
    "\n",
    "plt.scatter(data.Health_expenditure_per_capita_PPP,data.Years_Lived_With_Disability)\n",
    "xs = np.linspace(0.02001,8000,1000)\n",
    "ys = model2(xs,m,b)\n",
    "plt.title(\"m = {:.2f} b = {:.2f} y = mlnx + b\".format(m[0],b[0]))\n",
    "plt.plot(xs,ys,c='orange')\n",
    "# plt.ylim(4,13)\n",
    "plt.savefig('modelo2.pdf')"
   ]
  },
  {
   "cell_type": "code",
   "execution_count": 100,
   "metadata": {},
   "outputs": [],
   "source": [
    "def model3(x,params):\n",
    "    return -params[0]/(x-params[1]) + params[2]\n",
    "\n",
    "def loglikelihood(x_obs, y_obs, params):\n",
    "    ymodel = model3(x_obs,params)\n",
    "    gamm = ymodel*np.exp(-ymodel/y_obs)/(y_obs**2)\n",
    "    return np.sum(np.log(gamm))\n",
    "\n",
    "def logprior(params,restrictions):\n",
    "    p = 1\n",
    "    for restr in restrictions:\n",
    "        p *= restr[1]-restr[0]\n",
    "    p = np.log(p)\n",
    "    \n",
    "    for i, param in enumerate(params):\n",
    "        if not (param< restrictions[i][1] and param > restrictions[i][0]):\n",
    "            return p\n",
    "    \n",
    "    return -np.inf\n"
   ]
  },
  {
   "cell_type": "code",
   "execution_count": 117,
   "metadata": {},
   "outputs": [],
   "source": [
    "def metr(x_obs,y_obs,params,sigmas,restrictions,N=50000):\n",
    "    lista_params = np.zeros((N,len(params)))\n",
    "    for i in range(len(params)):\n",
    "        lista_params[0][i] = np.random.random()\n",
    "\n",
    "    logposterior = [loglikelihood(x_obs, y_obs, params) + logprior(params,restrictions)]\n",
    "\n",
    "\n",
    "    for i in range(1,N):\n",
    "#         print(\"--------------\")\n",
    "        lista_propuestas = lista_params[i-1]\n",
    "#         print(lista_propuestas)\n",
    "        for j in range(len(params)):\n",
    "            lista_propuestas[j] += np.random.normal()*sigmas[j]\n",
    "#         print(lista_propuestas)\n",
    "        \n",
    "#         print(\"--------------\")\n",
    "        logposterior_viejo = loglikelihood(x_obs, y_obs,  lista_params[i-1]) + logprior(lista_params[i-1], restrictions)\n",
    "        logposterior_nuevo = loglikelihood(x_obs, y_obs,  lista_propuestas ) + logprior(lista_propuestas , restrictions)\n",
    "\n",
    "        r = min(1,np.exp(logposterior_nuevo-logposterior_viejo))\n",
    "        alpha = np.random.random()\n",
    "        if(alpha<r):\n",
    "            lista_params[i] = lista_propuestas\n",
    "#             lista_m.append(propuesta_m)\n",
    "#             lista_b.append(propuesta_b)\n",
    "            logposterior.append(logposterior_nuevo)\n",
    "        else:\n",
    "            lista_params[i] = lista_params[i-1]\n",
    "            logposterior.append(logposterior_viejo)\n",
    "#     lista_m = np.array(lista_m)\n",
    "#     lista_b = np.array(lista_b)\n",
    "    logposterior = np.array(logposterior)\n",
    "    return lista_params , logposterior"
   ]
  },
  {
   "cell_type": "code",
   "execution_count": 118,
   "metadata": {},
   "outputs": [
    {
     "name": "stdout",
     "output_type": "stream",
     "text": [
      "--------------\n",
      "[0.93567043 0.00225383 0.33565281]\n",
      "[1.14481392 0.03957326 0.44270984]\n",
      "--------------\n",
      "--------------\n",
      "[1.14481392 0.03957326 0.44270984]\n",
      "[1.18978591 0.19468467 0.47148314]\n",
      "--------------\n",
      "--------------\n",
      "[1.18978591 0.19468467 0.47148314]\n",
      "[1.27927385 0.24038014 0.412297  ]\n",
      "--------------\n",
      "--------------\n",
      "[1.27927385 0.24038014 0.412297  ]\n",
      "[1.32229919 0.16200662 0.4514404 ]\n",
      "--------------\n",
      "--------------\n",
      "[1.32229919 0.16200662 0.4514404 ]\n",
      "[1.32293182 0.11597064 0.50708476]\n",
      "--------------\n",
      "--------------\n",
      "[1.32293182 0.11597064 0.50708476]\n",
      "[ 1.38481268 -0.1086862   0.56389779]\n",
      "--------------\n",
      "--------------\n",
      "[ 1.38481268 -0.1086862   0.56389779]\n",
      "[1.26887547 0.08702182 0.61752573]\n",
      "--------------\n",
      "--------------\n",
      "[1.26887547 0.08702182 0.61752573]\n",
      "[ 1.22641551 -0.10254909  0.52594628]\n",
      "--------------\n",
      "--------------\n",
      "[ 1.22641551 -0.10254909  0.52594628]\n",
      "[ 1.14398009 -0.31574672  0.50488674]\n",
      "--------------\n"
     ]
    },
    {
     "name": "stderr",
     "output_type": "stream",
     "text": [
      "/home/mauro/anaconda3/lib/python3.6/site-packages/ipykernel_launcher.py:7: RuntimeWarning: divide by zero encountered in log\n",
      "  import sys\n",
      "/home/mauro/anaconda3/lib/python3.6/site-packages/ipykernel_launcher.py:21: RuntimeWarning: invalid value encountered in double_scalars\n"
     ]
    }
   ],
   "source": [
    "params, logpost = metr(x_obs,y_obs,[0,0,0],[0.1,0.1,0.1],[[0,100],[-20,50],[0,15]],N=10)"
   ]
  },
  {
   "cell_type": "code",
   "execution_count": 106,
   "metadata": {},
   "outputs": [
    {
     "data": {
      "text/plain": [
       "(array([1., 1., 1., 1., 0., 1., 1., 0., 1., 3.]),\n",
       " array([0.08615053, 0.13015777, 0.17416502, 0.21817226, 0.2621795 ,\n",
       "        0.30618674, 0.35019399, 0.39420123, 0.43820847, 0.48221571,\n",
       "        0.52622296]),\n",
       " <a list of 10 Patch objects>)"
      ]
     },
     "execution_count": 106,
     "metadata": {},
     "output_type": "execute_result"
    },
    {
     "data": {
      "image/png": "[encoded data removed]",
      "text/plain": [
       "<matplotlib.figure.Figure at 0x7f4465e854e0>"
      ]
     },
     "metadata": {},
     "output_type": "display_data"
    }
   ],
   "source": [
    "plt.hist(params[:,0])"
   ]
  },
  {
   "cell_type": "code",
   "execution_count": 107,
   "metadata": {},
   "outputs": [
    {
     "data": {
      "text/plain": [
       "array([[0.08615053, 1.0024533 , 0.05723007],\n",
       "       [0.15424583, 1.05729008, 0.07157061],\n",
       "       [0.19567185, 1.06693535, 0.07367792],\n",
       "       [0.24548062, 1.13812686, 0.16760172],\n",
       "       [0.3147676 , 1.17654263, 0.22504236],\n",
       "       [0.36487572, 1.21968457, 0.22955319],\n",
       "       [0.45527906, 1.22539519, 0.24290862],\n",
       "       [0.51319928, 1.29097949, 0.30406563],\n",
       "       [0.52622296, 1.33926912, 0.31568837],\n",
       "       [0.52622296, 1.33926912, 0.31568837]])"
      ]
     },
     "execution_count": 107,
     "metadata": {},
     "output_type": "execute_result"
    }
   ],
   "source": [
    "params"
   ]
  },
  {
   "cell_type": "code",
   "execution_count": 97,
   "metadata": {},
   "outputs": [],
   "source": [
    "a[0] += np.random.random(2)"
   ]
  },
  {
   "cell_type": "code",
   "execution_count": 98,
   "metadata": {},
   "outputs": [
    {
     "data": {
      "text/plain": [
       "array([[0.76919691, 1.23525261],\n",
       "       [0.        , 0.        ],\n",
       "       [0.        , 0.        ]])"
      ]
     },
     "execution_count": 98,
     "metadata": {},
     "output_type": "execute_result"
    }
   ],
   "source": [
    "a"
   ]
  },
  {
   "cell_type": "code",
   "execution_count": null,
   "metadata": {},
   "outputs": [],
   "source": []
  }
 ],
 "metadata": {
  "kernelspec": {
   "display_name": "Python 3",
   "language": "python",
   "name": "python3"
  },
  "language_info": {
   "codemirror_mode": {
    "name": "ipython",
    "version": 3
   },
   "file_extension": ".py",
   "mimetype": "text/x-python",
   "name": "python",
   "nbconvert_exporter": "python",
   "pygments_lexer": "ipython3",
   "version": "3.6.4"
  }
 },
 "nbformat": 4,
 "nbformat_minor": 2
}
