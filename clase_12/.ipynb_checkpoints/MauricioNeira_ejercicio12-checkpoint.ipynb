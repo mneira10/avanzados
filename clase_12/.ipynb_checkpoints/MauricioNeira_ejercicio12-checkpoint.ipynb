{
 "cells": [
  {
   "cell_type": "code",
   "execution_count": 1,
   "metadata": {},
   "outputs": [],
   "source": [
    "import numpy as np\n",
    "import pandas as pd\n",
    "import matplotlib.pyplot as plt "
   ]
  },
  {
   "cell_type": "code",
   "execution_count": 2,
   "metadata": {},
   "outputs": [],
   "source": [
    "data = pd.read_csv(\"fitting.txt\",delimiter=\" \",skiprows=1,header=None,names=['x','y','y_err'])\n",
    "\n",
    "data = data.sample(frac=1)\n",
    "\n",
    "trainning_data = data.head(10)\n",
    "test_data = data.tail(10)"
   ]
  },
  {
   "cell_type": "code",
   "execution_count": 3,
   "metadata": {},
   "outputs": [
    {
     "data": {
      "text/plain": [
       "<Container object of 3 artists>"
      ]
     },
     "execution_count": 3,
     "metadata": {},
     "output_type": "execute_result"
    },
    {
     "data": {
      "image/png": "[encoded data removed]",
      "text/plain": [
       "<matplotlib.figure.Figure at 0x7ffb1160c8d0>"
      ]
     },
     "metadata": {},
     "output_type": "display_data"
    }
   ],
   "source": [
    "xtr = trainning_data['x']\n",
    "ytr = trainning_data['y']\n",
    "etr = trainning_data['y_err']\n",
    "\n",
    "xte = test_data['x']\n",
    "yte = test_data['y']\n",
    "ete = test_data['y_err']\n",
    "\n",
    "plt.errorbar(xtr,ytr,etr,fmt = \"o\")\n",
    "plt.errorbar(xte,yte,ete,fmt = \"o\")"
   ]
  },
  {
   "cell_type": "code",
   "execution_count": 4,
   "metadata": {},
   "outputs": [],
   "source": [
    "def model(x,params):\n",
    "    return np.poly1d(params)(x)"
   ]
  },
  {
   "cell_type": "code",
   "execution_count": 5,
   "metadata": {},
   "outputs": [],
   "source": [
    "def loglikelihood(x_obs, y_obs, sigma_y_obs,params):\n",
    "    d = y_obs -  model(x_obs, params)\n",
    "    d = d/sigma_y_obs\n",
    "    d = -0.5 * np.sum(d**2)\n",
    "    return d\n",
    "\n",
    "def logprior(params):\n",
    "    \n",
    "    n_dims = len(params)\n",
    "    p = -np.inf\n",
    "    \n",
    "    if (params > -1).all() and (params < 1).all():\n",
    "        p = -n_dims*np.log(2)\n",
    "    return p\n"
   ]
  },
  {
   "cell_type": "code",
   "execution_count": 25,
   "metadata": {},
   "outputs": [],
   "source": [
    "def MCMC(n_params):\n",
    "    print(\"# params: {}\".format(n_params))\n",
    "    N = 50000\n",
    "    lista_params=[np.random.uniform(-1,1,n_params)]\n",
    "    print(lista_params)\n",
    "    # logposterior = [loglikelihood(x_obs, y_obs, lista_m[0], lista_b[0]) + logprior(lista_m[0], lista_b[0])]\n",
    "    logposterior = [0]\n",
    "\n",
    "    # sigma_deltas = [0.01]*n_params\n",
    "    sigma_delta = 0.05\n",
    "\n",
    "\n",
    "    for i in range(1,N):\n",
    "\n",
    "        propuestas = lista_params[i-1] + np.random.normal(0,1,n_params)*sigma_delta\n",
    "\n",
    "        logposterior_viejo = loglikelihood(xtr, ytr, etr, lista_params[i-1]) + logprior(lista_params[i-1])\n",
    "        logposterior_nuevo = loglikelihood(xtr, ytr, etr,  propuestas ) + logprior(propuestas)\n",
    "\n",
    "        r = min(1,np.exp(logposterior_nuevo-logposterior_viejo))\n",
    "        alpha = np.random.random()\n",
    "        if(alpha<r):\n",
    "            lista_params.append(propuestas)\n",
    "    #         lista_m.append(propuesta_m)\n",
    "    #         lista_b.append(propuesta_b)\n",
    "            logposterior.append(logposterior_nuevo)\n",
    "        else:\n",
    "            lista_params.append(lista_params[i-1])\n",
    "    #         lista_m.append(lista_m[i-1])\n",
    "    #         lista_b.append(lista_b[i-1])\n",
    "            logposterior.append(logposterior_viejo)\n",
    "    lista_params = np.array(lista_params)\n",
    "    # lista_m = np.array(lista_m)\n",
    "    # lista_b = np.array(lista_b)\n",
    "    logposterior = np.array(logposterior)\n",
    "    return lista_params"
   ]
  },
  {
   "cell_type": "code",
   "execution_count": 26,
   "metadata": {},
   "outputs": [
    {
     "data": {
      "text/plain": [
       "[array([ 0.4238137 , -0.17536617,  0.57182278])]"
      ]
     },
     "execution_count": 26,
     "metadata": {},
     "output_type": "execute_result"
    }
   ],
   "source": [
    "[np.random.uniform(-1,1,3)]"
   ]
  },
  {
   "cell_type": "code",
   "execution_count": 21,
   "metadata": {},
   "outputs": [
    {
     "name": "stdout",
     "output_type": "stream",
     "text": [
      "[array([-0.42611902,  0.15143707, -0.28022585])]\n",
      "[[-0.42611902  0.15143707 -0.28022585]\n",
      " [-0.39176304  0.15045641 -0.25622198]\n",
      " [-0.48275756  0.03659468 -0.21438603]\n",
      " ...\n",
      " [ 0.12996088  0.06969561 -0.1233509 ]\n",
      " [ 0.12996088  0.06969561 -0.1233509 ]\n",
      " [ 0.12996088  0.06969561 -0.1233509 ]]\n"
     ]
    }
   ],
   "source": [
    "lista_params = MCMC(3)\n",
    "print(lista_params)"
   ]
  },
  {
   "cell_type": "code",
   "execution_count": 22,
   "metadata": {},
   "outputs": [
    {
     "data": {
      "text/plain": [
       "(array([2.0000e+00, 1.0000e+00, 4.0000e+00, 2.0000e+00, 1.0000e+00,\n",
       "        0.0000e+00, 5.0000e+00, 8.0000e+00, 0.0000e+00, 2.0000e+00,\n",
       "        0.0000e+00, 0.0000e+00, 1.0000e+00, 1.0000e+00, 0.0000e+00,\n",
       "        0.0000e+00, 0.0000e+00, 3.0000e+00, 0.0000e+00, 0.0000e+00,\n",
       "        0.0000e+00, 0.0000e+00, 8.4000e+01, 1.5570e+03, 1.0815e+04,\n",
       "        3.0599e+04, 3.7261e+04, 1.6489e+04, 2.8440e+03, 3.2100e+02]),\n",
       " array([-0.49370684, -0.46883999, -0.44397314, -0.41910629, -0.39423944,\n",
       "        -0.3693726 , -0.34450575, -0.3196389 , -0.29477205, -0.2699052 ,\n",
       "        -0.24503835, -0.2201715 , -0.19530465, -0.17043781, -0.14557096,\n",
       "        -0.12070411, -0.09583726, -0.07097041, -0.04610356, -0.02123671,\n",
       "         0.00363013,  0.02849698,  0.05336383,  0.07823068,  0.10309753,\n",
       "         0.12796438,  0.15283123,  0.17769807,  0.20256492,  0.22743177,\n",
       "         0.25229862]),\n",
       " <a list of 30 Patch objects>)"
      ]
     },
     "execution_count": 22,
     "metadata": {},
     "output_type": "execute_result"
    },
    {
     "data": {
      "image/png": "[encoded data removed]",
      "text/plain": [
       "<matplotlib.figure.Figure at 0x7ffb0763bda0>"
      ]
     },
     "metadata": {},
     "output_type": "display_data"
    }
   ],
   "source": [
    "plt.hist(lista_params[:,0],bins=30)"
   ]
  },
  {
   "cell_type": "code",
   "execution_count": 23,
   "metadata": {},
   "outputs": [],
   "source": [
    "estimates = [np.mean(lista_params[:,i]) for i in range(lista_params.shape[1])]"
   ]
  },
  {
   "cell_type": "code",
   "execution_count": null,
   "metadata": {},
   "outputs": [],
   "source": []
  },
  {
   "cell_type": "code",
   "execution_count": 24,
   "metadata": {},
   "outputs": [
    {
     "data": {
      "text/plain": [
       "<Container object of 3 artists>"
      ]
     },
     "execution_count": 24,
     "metadata": {},
     "output_type": "execute_result"
    },
    {
     "data": {
      "image/png": "[encoded data removed]",
      "text/plain": [
       "<matplotlib.figure.Figure at 0x7ffb07476668>"
      ]
     },
     "metadata": {},
     "output_type": "display_data"
    }
   ],
   "source": [
    "xs = np.linspace(min(xtr),max(xtr),100)\n",
    "plt.plot(xs,np.poly1d(estimates[0])(xs))\n",
    "plt.errorbar(xtr,ytr,etr,fmt = \"o\")\n",
    "plt.errorbar(xte,yte,ete,fmt = \"o\",alpha=0.2)"
   ]
  },
  {
   "cell_type": "code",
   "execution_count": 15,
   "metadata": {},
   "outputs": [
    {
     "data": {
      "text/plain": [
       "[0.15780504445028737, 0.05149254983068521, -0.1316968313259552]"
      ]
     },
     "execution_count": 15,
     "metadata": {},
     "output_type": "execute_result"
    }
   ],
   "source": [
    "estimates"
   ]
  },
  {
   "cell_type": "code",
   "execution_count": null,
   "metadata": {},
   "outputs": [],
   "source": []
  }
 ],
 "metadata": {
  "kernelspec": {
   "display_name": "Python 3",
   "language": "python",
   "name": "python3"
  },
  "language_info": {
   "codemirror_mode": {
    "name": "ipython",
    "version": 3
   },
   "file_extension": ".py",
   "mimetype": "text/x-python",
   "name": "python",
   "nbconvert_exporter": "python",
   "pygments_lexer": "ipython3",
   "version": "3.6.4"
  }
 },
 "nbformat": 4,
 "nbformat_minor": 2
}
