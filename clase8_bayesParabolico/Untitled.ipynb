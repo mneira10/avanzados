{
 "cells": [
  {
   "cell_type": "code",
   "execution_count": 110,
   "metadata": {},
   "outputs": [],
   "source": [
    "import numpy as np\n",
    "import matplotlib.pyplot as plt \n"
   ]
  },
  {
   "cell_type": "code",
   "execution_count": 111,
   "metadata": {},
   "outputs": [],
   "source": [
    "obs = np.array([880, 795, 782, 976, 178])\n",
    "obs_error = 5"
   ]
  },
  {
   "cell_type": "code",
   "execution_count": 112,
   "metadata": {},
   "outputs": [],
   "source": [
    "def alcance(v, theta):\n",
    "    g = 9.8\n",
    "    return v**2 * np.sin(2*theta)/g"
   ]
  },
  {
   "cell_type": "code",
   "execution_count": 113,
   "metadata": {},
   "outputs": [],
   "source": [
    "def likelihood(v):\n",
    "    points= 500\n",
    "    theta = np.random.uniform(0,np.pi/2,points)\n",
    "    alcances = alcance(v,theta)\n",
    "    suma = 0\n",
    "    for i in obs:\n",
    "        suma += sum((alcances > (i-obs_error)) & (alcances < (i+obs_error)))\n",
    "    return suma/points\n",
    "\n",
    "\n",
    "def prior(v):\n",
    "#     mu=92\n",
    "#     s=20\n",
    "#     return (1/(2*np.pi*s**2)**0.5)*np.exp(-(v-mu)**2/(2*s**2))\n",
    "    p=0\n",
    "    if v>0 and p<100:\n",
    "        p=1/100\n",
    "    return p\n"
   ]
  },
  {
   "cell_type": "code",
   "execution_count": 114,
   "metadata": {},
   "outputs": [
    {
     "name": "stderr",
     "output_type": "stream",
     "text": [
      "/home/mauro/anaconda3/lib/python3.6/site-packages/ipykernel_launcher.py:11: RuntimeWarning: divide by zero encountered in double_scalars\n",
      "  # This is added back by InteractiveShellApp.init_path()\n"
     ]
    }
   ],
   "source": [
    "v = 90\n",
    "npoints = 3000\n",
    "vs = np.zeros(npoints)\n",
    "vs[0]=v\n",
    "for i in range(npoints-1):\n",
    "    vpos = vs[i]+np.random.normal()\n",
    "    \n",
    "    post_viejo = likelihood(vs[i])*prior(vs[i])\n",
    "    post_nuevo = likelihood(vpos)*prior(vpos)\n",
    "    \n",
    "    r = min(1,post_nuevo/post_viejo)\n",
    "    \n",
    "    alpha = np.random.random()\n",
    "    if(alpha<r):\n",
    "        vs[i+1] = vpos\n",
    "    else:\n",
    "        vs[i+1] = vs[i]\n",
    "    \n",
    "    \n"
   ]
  },
  {
   "cell_type": "code",
   "execution_count": 115,
   "metadata": {},
   "outputs": [
    {
     "data": {
      "image/png": "[encoded data removed]",
      "text/plain": [
       "<matplotlib.figure.Figure at 0x7f4f79d8c9b0>"
      ]
     },
     "metadata": {},
     "output_type": "display_data"
    }
   ],
   "source": [
    "histo = plt.hist(vs,bins = 20,normed=True)\n",
    "# maxvv = max(vs)\n",
    "meanv = np.mean(vs)\n",
    "stdv = np.std(vs)\n",
    "hist, edges = np.histogram(vs,bins=50, density=True)\n",
    "maxv=edges[1:][hist==max(hist)]\n",
    "plt.title(\"maxv = {:.2f}, meanv = {:.2f}, stdv = {:.2f}\".format(maxv[0],meanv,stdv))\n",
    "plt.savefig(\"histo_regults.pdf\")"
   ]
  },
  {
   "cell_type": "code",
   "execution_count": null,
   "metadata": {},
   "outputs": [],
   "source": []
  },
  {
   "cell_type": "code",
   "execution_count": null,
   "metadata": {},
   "outputs": [],
   "source": []
  }
 ],
 "metadata": {
  "kernelspec": {
   "display_name": "Python 3",
   "language": "python",
   "name": "python3"
  },
  "language_info": {
   "codemirror_mode": {
    "name": "ipython",
    "version": 3
   },
   "file_extension": ".py",
   "mimetype": "text/x-python",
   "name": "python",
   "nbconvert_exporter": "python",
   "pygments_lexer": "ipython3",
   "version": "3.6.4"
  }
 },
 "nbformat": 4,
 "nbformat_minor": 2
}
