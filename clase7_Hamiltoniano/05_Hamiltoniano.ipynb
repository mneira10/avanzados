{
 "cells": [
  {
   "cell_type": "markdown",
   "metadata": {},
   "source": [
    "El objetivo principal de los métodos Monte Carlo aplicados a estadística bayesiana es \n",
    "construir muestras de la densidad de probabilidad posterior.\n",
    "En el caso de Metropolis-Hastings la exploración se hace dando pasos en el espacio de parámetros, \n",
    "el lugar de llegada de cada paso (que puede ser rechazadoo aceptado) se *adivina* sin tener en cuenta\n",
    "la forma del prior. \n",
    "La información del prior solamente se utiliza para aceptar o rechazar el paso propuesto.\n",
    "\n",
    "Esto puede ser condiderado como una falla, o al menos una elección que no es óptima. Sería deseable \n",
    "usar toda la información disponible en cada momento, incluso al momento de proponer un nuevo lugar en la cadena.\n",
    "\n",
    "Los métodos de Monte Carlo Hamiltoniano buscan una mejora haciendo que la propuesta de un nuevo \n",
    "punto en la cadena se haga a partir de una **trayectoria** en el espacio de parámetros. Esta trayectoria se encuentra \"dirigida\" por el prior.\n",
    "\n",
    "Antes de entrar de lleno en la formulación del Monte Carlo Hamiltoniano vamos a hacer\n",
    "un breve repaso sobre la formulación Hamiltoniana de la mecánica y algunos métodos numéricos\n",
    "asociados."
   ]
  },
  {
   "cell_type": "markdown",
   "metadata": {},
   "source": [
    "# Mecánica Hamiltoniana "
   ]
  },
  {
   "cell_type": "markdown",
   "metadata": {},
   "source": [
    "La mecánica clásica puede ser reescrita en un formalismo matemático conocido como formalismo Hamiltoniano.\n",
    "Esta reformulación además de ser útil para la mecánica clásica ha sido fundamental para la mecánica\n",
    "estadística y la mecánica cuántica.\n",
    "\n",
    "El objeto matemático central en esta formulación es el **Hamiltoniano**, $\\mathcal{H}$.\n",
    "El Hamiltoniano es una función de las posiciones ($q$) y los momentos ($p$) que describen el sistema que nos interesa. Una vez tenemos el Hamiltoniano en función de $p$ y $q$ podemos encontrar su evolución temporal usando las ecuaciones de Hamilton\n",
    "\n",
    "$$\n",
    "\\frac{\\partial p}{\\partial t} = -\\frac{\\partial \\mathcal{H}}{\\partial q}\n",
    "$$\n",
    "\n",
    "$$\n",
    "\\frac{\\partial q}{\\partial t} = +\\frac{d\\mathcal{H}}{\\partial p}\n",
    "$$\n",
    "\n",
    "En los casos que nos van a interesar el Hamiltoniano corresponde a la energia total del sistema, \n",
    "$\\mathcal{H}= T+V$ donde $T$ es la energia cinetica y $V$ es la energia potencial."
   ]
  },
  {
   "cell_type": "markdown",
   "metadata": {},
   "source": [
    "# Ejemplo 5.1\n",
    "\n",
    "Una partícula de masa $m$ en un plano bidimensional está conectada por un resorte a un punto fijo.\n",
    "Para simplificar vamos a tomar el origen del sistema de coordenadas como el punto donde está fijo un extremo del resorte. El otro extremo del resorte, donde está nuestra partícula de masa $m$, tiene coordenadas $x,y$.\n",
    "\n",
    "La energia cinética se puede escribir en coordenadas cartesianas como $ T = p_x^2/2m + p_y^2/2m$ mientras que la energia potencial es $V=kx^2/2 + ky^2/2$. En este caso el Hamiltoniano del sistema es:\n",
    "\n",
    "$$\n",
    "\\mathcal{H} = \\frac{1}{2m}p_x^2 + \\frac{1}{2m}p_y^2 + \\frac{k}{2}x^2 + \\frac{k}{2}y^2.\n",
    "$$"
   ]
  },
  {
   "cell_type": "markdown",
   "metadata": {},
   "source": [
    "# Integracion de las ecuaciones de Hamilton"
   ]
  },
  {
   "cell_type": "markdown",
   "metadata": {},
   "source": [
    "El objetivo ahora es resolver las ecuaciones de hamilton numericamente.\n",
    "Esto quiere decir que vamos a encontrar $p$ y $q$ como funciones del tiempo.\n",
    "Dado que esto implica resolver numericamente ecuaciones diferenciales acopladas de primer orden\n",
    "es necesario dar las condiciones iniciales para todos los $p$ y $q$.\n",
    "\n",
    "En terminos de diferencias finitas podemos reescribir las ecuaciones de Hamilton como\n",
    "\n",
    "$$\n",
    "p_{n+1} = p_{n} -\\frac{\\partial\\mathcal{H}}{\\partial q}\\Delta t,\n",
    "$$\n",
    "\n",
    "$$\n",
    "q_{n+1} = q_{n} + \\frac{\\partial \\mathcal{H}}{\\partial p}\\Delta t.\n",
    "$$\n",
    "\n",
    "La primera ecuacion recibe el nombre de **kick** (es como un golpe que cambia el momentum) y la segunda ecuacion el de **drift** (es como un movimiento libre a velocidad constante)."
   ]
  },
  {
   "cell_type": "markdown",
   "metadata": {},
   "source": [
    "## Ejercicio 5.2\n",
    "Utilizando el mismo ejemplo de antes vamos a resolver las ecuaciones de Hamilton de manera computacional."
   ]
  },
  {
   "cell_type": "code",
   "execution_count": 1,
   "metadata": {},
   "outputs": [],
   "source": [
    "import numpy as np\n",
    "import matplotlib.pyplot as plt\n",
    "%matplotlib inline\n",
    "\n",
    "\n",
    "def partialH_partialq(p, q, k=1, m=1):\n",
    "    \"\"\"Expresion analitica de la derivada del hamiltoniano con respecto a q.\n",
    "    \"\"\"\n",
    "    return k*q\n",
    "\n",
    "def partialH_partialp(p, q, k=1, m=1):\n",
    "    \"\"\"Expresion analitica de la derivada del hamiltoniano con respecto a p.\n",
    "    \"\"\"\n",
    "    return p/m\n",
    "\n",
    "def kick(p, q, delta_t, k=1, m=1):\n",
    "    \"\"\"Cambio en el momentum.\n",
    "    \"\"\"\n",
    "    p_new = p - partialH_partialq(p, q, k=k, m=m) * delta_t\n",
    "    return p_new\n",
    "\n",
    "def drift(p, q, delta_t, k=1, m=1):\n",
    "    \"\"\"Cambio en la posicion.\n",
    "    \"\"\"\n",
    "    q_new = q + partialH_partialp(p, q, k=k, m=m) * delta_t\n",
    "    return q_new\n",
    "\n",
    "def solve(delta_t = 1E-2, n_steps=1000):\n",
    "    \"\"\"\n",
    "    Resuelve las ecuaciones de Hamilton a traves de \n",
    "    un metodo leapfrog: kick-drift-kick.\n",
    "    \"\"\"\n",
    "    # condiciones iniciales\n",
    "    x = [1.0]\n",
    "    y = [2.0]\n",
    "    px = [5.0]\n",
    "    py = [-3.0]\n",
    "    \n",
    "    # constante del resorte y masa\n",
    "    k = 1.0\n",
    "    m = 1.0\n",
    "    for i in range(1,n_steps):\n",
    "        # Primero un nuevo punto con un kick de delta_t/2\n",
    "        px.append(kick(px[i-1], x[i-1],delta_t/2, k=k, m=m))\n",
    "        py.append(kick(py[i-1], y[i-1],delta_t/2, k=k, m=m))\n",
    "        \n",
    "        # Luego un drift de delta_t con el nuevo momentum \n",
    "        x.append(drift(px[i], x[i-1],delta_t, k=k, m=m))\n",
    "        y.append(drift(py[i], y[i-1],delta_t, k=k, m=m))\n",
    "        \n",
    "        # Finalmente otro kick de delta_t/2 para fijar el momentum \n",
    "        px[i] = kick(px[i], x[i],delta_t/2, k=k, m=m)\n",
    "        py[i] = kick(py[i], y[i],delta_t/2, k=k, m=m)\n",
    "    return np.array(x), np.array(y), np.array(px), np.array(py)"
   ]
  },
  {
   "cell_type": "code",
   "execution_count": 2,
   "metadata": {},
   "outputs": [],
   "source": [
    "x, y, px, py = solve()"
   ]
  },
  {
   "cell_type": "code",
   "execution_count": 3,
   "metadata": {},
   "outputs": [
    {
     "data": {
      "text/plain": [
       "Text(0,0.5,'x')"
      ]
     },
     "execution_count": 3,
     "metadata": {},
     "output_type": "execute_result"
    },
    {
     "data": {
      "image/png": "[encoded data removed]",
      "text/plain": [
       "<matplotlib.figure.Figure at 0x7f5e8cb1b358>"
      ]
     },
     "metadata": {},
     "output_type": "display_data"
    }
   ],
   "source": [
    "plt.plot(x)\n",
    "plt.xlabel('time steps')\n",
    "plt.ylabel('x')"
   ]
  },
  {
   "cell_type": "code",
   "execution_count": 4,
   "metadata": {},
   "outputs": [
    {
     "data": {
      "text/plain": [
       "Text(0,0.5,'y')"
      ]
     },
     "execution_count": 4,
     "metadata": {},
     "output_type": "execute_result"
    },
    {
     "data": {
      "image/png": "[encoded data removed]",
      "text/plain": [
       "<matplotlib.figure.Figure at 0x7f5e6698be10>"
      ]
     },
     "metadata": {},
     "output_type": "display_data"
    }
   ],
   "source": [
    "plt.plot(x,y)\n",
    "plt.xlabel('x')\n",
    "plt.ylabel('y')"
   ]
  },
  {
   "cell_type": "markdown",
   "metadata": {},
   "source": [
    "En este caso el resultado era el esperado: movimiento armonico bidimensional."
   ]
  },
  {
   "cell_type": "markdown",
   "metadata": {},
   "source": [
    "# Monte Carlo Hamiltoniano\n",
    "\n",
    "¿Qué tiene que ver todo esto con Monte Carlo Hamiltoniano? La idea principal es que \n",
    "la distribución de probabilidad que va ser muestreada va a jugar el rol del potencial \n",
    "dentro del Hamiltoniano. Una metáfora podría ser la siguiente: un punto de la cadena se le asigna un momento aleatorio para que se mueva dentro de la distribución de probabilidad y generar una nueva propuesta. Para seleccionar si la propuesta se aprueba se sigue el método tradicional de Metropolis Hastings.\n",
    "\n",
    "Más precisamente, si la distribución que se desea muestrear es $F(q)$, entonces vamos a definir el \n",
    "siguiente Hamiltoniano \n",
    "\n",
    "$$\n",
    "\\mathcal{H} = \\frac{p^2}{2m} -  \\log (F(q)) \n",
    "$$\n",
    "\n",
    "y en cada paso de la cadena de Markov generamos un momento inicial con $p$ tomado de una distribucion Gaussiana y $q$ del valor presente de la cadena. Evolucionamos la solucion del Hamiltoniano por $n_{steps}$ con un $\\Delta t$ determinado, cambiamos el signo de $p$ (por que? ver la pag. 40 https://arxiv.org/pdf/1701.02434.pdf), para finalmente evaluar si el nuevo lugar en la cade debe aceptarse o no comparando el Hamiltoniano (i.e. la energía) en los dos puntos de interés."
   ]
  },
  {
   "cell_type": "markdown",
   "metadata": {},
   "source": [
    "# Ejercicio 5.2\n",
    "\n",
    "Vamos a construir una cadena de Markov que samplea una distribución Gaussiana con desviación estándar `sigma` usando el método Hamiltoniano."
   ]
  },
  {
   "cell_type": "code",
   "execution_count": 5,
   "metadata": {},
   "outputs": [],
   "source": [
    "def pdf_to_sample(q, sigma):\n",
    "    return exp(-0.5*q**2/sigma**2)\n",
    "\n",
    "def log_pdf_to_sample(q, sigma):\n",
    "    return -0.5*q**2/sigma**2\n",
    "\n",
    "def gradient_log_pdf_to_sample(q, sigma):\n",
    "    return -q/sigma**2\n",
    "\n",
    "def leapfrog(q,p, sigma, delta_t=1E-1, niter=5):\n",
    "    q_new = q\n",
    "    p_new = p\n",
    "    for i in range(niter):\n",
    "        p_new = p_new + 0.5 * delta_t * gradient_log_pdf_to_sample(q_new, sigma) #kick\n",
    "        q_new = q_new + delta_t * p_new #drift\n",
    "        p_new = p_new + 0.5 * delta_t * gradient_log_pdf_to_sample(q_new, sigma) #kick\n",
    "    return q_new, p_new\n",
    "\n",
    "def H(q,p, sigma):\n",
    "    K = 0.5 * p * p\n",
    "    U = -log_pdf_to_sample(q, sigma)\n",
    "    return K + U\n",
    "\n",
    "def MCMC(nsteps):\n",
    "    q = np.zeros(nsteps)\n",
    "    p = np.zeros(nsteps)\n",
    "    p[0] = np.random.normal(0,1)\n",
    "    q[0] = np.random.normal(0,1)\n",
    "    sigma = 0.1\n",
    "    for i in range(1,nsteps):\n",
    "        p[i] = np.random.normal(0,1)\n",
    "        q_new, p_new = leapfrog(q[i-1],p[i-1], sigma) # la propuesta se hace con leapfrog\n",
    "        p_new = -p_new #negamos a p para que la propuesta sea simetrica.\n",
    "        E_new = H(q_new, p_new, sigma) # En lugar de evaluar la pdf se evalua la energia.\n",
    "        E_old = H(q[i-1], p[i-1], sigma)\n",
    "        alpha = min(1.0,np.exp(-(E_new - E_old))) # Se comparan las dos energias\n",
    "        beta = np.random.random()\n",
    "        if beta < alpha:\n",
    "            q[i] = q_new\n",
    "        else:\n",
    "            q[i] = q[i-1]\n",
    "    return q"
   ]
  },
  {
   "cell_type": "code",
   "execution_count": 8,
   "metadata": {},
   "outputs": [],
   "source": [
    "q_chain = MCMC(10000)"
   ]
  },
  {
   "cell_type": "code",
   "execution_count": 9,
   "metadata": {},
   "outputs": [
    {
     "data": {
      "text/plain": [
       "[<matplotlib.lines.Line2D at 0x10b206550>]"
      ]
     },
     "execution_count": 9,
     "metadata": {},
     "output_type": "execute_result"
    },
    {
     "data": {
      "image/png": "[encoded data removed]",
      "text/plain": [
       "<Figure size 432x288 with 1 Axes>"
      ]
     },
     "metadata": {},
     "output_type": "display_data"
    }
   ],
   "source": [
    "x = np.linspace(-0.5, 0.5)\n",
    "sigma = 0.1\n",
    "y = (1.0/(sigma * np.sqrt(2*np.pi))) * np.exp(-0.5*(x/sigma)**2)\n",
    "\n",
    "a = plt.hist(q_chain[500:], bins=20, density=True)\n",
    "plt.plot(x,y)\n"
   ]
  },
  {
   "cell_type": "markdown",
   "metadata": {},
   "source": [
    "# Ejercicio 5.1\n",
    "\n",
    "Resuelva el ejercicio (ajuste cuadrático) del notebook anterior usando Monte Carlo Hamiltoniano. En ese casos lo más recomendable es calcular las derivadas de manera numérica y considerar además un prior gaussiano (para que el posterior sea continuo y pueda derivarse sin problemas)."
   ]
  },
  {
   "cell_type": "code",
   "execution_count": 12,
   "metadata": {},
   "outputs": [
    {
     "data": {
      "text/plain": [
       "<Container object of 3 artists>"
      ]
     },
     "execution_count": 12,
     "metadata": {},
     "output_type": "execute_result"
    },
    {
     "data": {
      "image/png": "[encoded data removed]",
      "text/plain": [
       "<matplotlib.figure.Figure at 0x7f7deb18be48>"
      ]
     },
     "metadata": {},
     "output_type": "display_data"
    }
   ],
   "source": [
    "x_obs = np.array([-2.0,1.3,0.4,5.0,0.1, -4.7, 3.0, -3.5,-1.1])\n",
    "y_obs = np.array([ -1.931,   2.38,   1.88,  -24.22,   3.31, -21.9,  -5.18, -12.23,   0.822])\n",
    "sigma_y_obs = np.array([ 2.63,  6.23, -1.461, 1.376, -4.72,  1.313, -4.886, -1.091,  0.8054])\n",
    "plt.errorbar(x_obs, y_obs, yerr=sigma_y_obs, fmt='o')\n"
   ]
  },
  {
   "cell_type": "code",
   "execution_count": 3,
   "metadata": {},
   "outputs": [],
   "source": [
    "def model(x,a,b,c):\n",
    "    return a*x**2 + b*x + c\n",
    "\n",
    "def loglikelihood(x_obs, y_obs, sigma_y_obs, a, b, c):\n",
    "    d = y_obs -  model(x_obs, a,b,c)\n",
    "    d = d/sigma_y_obs\n",
    "    d = -0.5 * np.sum(d**2)\n",
    "    return d\n",
    "\n",
    "def logprior(a, b, c):\n",
    "    p = -np.inf\n",
    "    if a <= 5 and a >-100 and b >-20 and b<20 and c>-10 and c<10:\n",
    "        p = 0.0\n",
    "    return p"
   ]
  },
  {
   "cell_type": "code",
   "execution_count": 13,
   "metadata": {},
   "outputs": [
    {
     "name": "stderr",
     "output_type": "stream",
     "text": [
      "/home/mauro/anaconda3/lib/python3.6/site-packages/ipykernel_launcher.py:19: RuntimeWarning: overflow encountered in exp\n"
     ]
    }
   ],
   "source": [
    "N = 200000\n",
    "lista_a = [np.random.random()]\n",
    "lista_b = [np.random.random()]\n",
    "lista_c = [np.random.random()]\n",
    "logposterior = [loglikelihood(x_obs, y_obs, sigma_y_obs, lista_a[0], lista_b[0], lista_c[0]) + logprior(lista_a[0], lista_b[0], lista_c[0])]\n",
    "\n",
    "sigma_delta_a = 1.0\n",
    "sigma_delta_b = 1.0\n",
    "sigma_delta_c = 0.5\n",
    "\n",
    "for i in range(1,N):\n",
    "    propuesta_a  = lista_a[i-1] + np.random.normal(loc=0.0, scale=sigma_delta_a)\n",
    "    propuesta_b  = lista_b[i-1] + np.random.normal(loc=0.0, scale=sigma_delta_b)\n",
    "    propuesta_c  = lista_c[i-1] + np.random.normal(loc=0.0, scale=sigma_delta_c)\n",
    "\n",
    "    logposterior_viejo = loglikelihood(x_obs, y_obs, sigma_y_obs, lista_a[i-1], lista_b[i-1], lista_c[i-1]) + logprior(lista_a[i-1], lista_b[i-1], lista_c[i-1])\n",
    "    logposterior_nuev o = loglikelihood(x_obs, y_obs, sigma_y_obs, propuesta_a, propuesta_b, propuesta_c) + logprior(propuesta_a, propuesta_b, propuesta_c)\n",
    "\n",
    "    r = min(1,np.exp(logposterior_nuevo-logposterior_viejo))\n",
    "    alpha = np.random.random()\n",
    "    if(alpha<r):\n",
    "        lista_a.append(propuesta_a)\n",
    "        lista_b.append(propuesta_b)\n",
    "        lista_c.append(propuesta_c)\n",
    "        logposterior.append(logposterior_nuevo)\n",
    "    else:\n",
    "        lista_a.append(lista_a[i-1])\n",
    "        lista_b.append(lista_b[i-1])\n",
    "        lista_c.append(lista_c[i-1])\n",
    "        logposterior.append(logposterior_viejo)\n",
    "        \n",
    "lista_a = np.array(lista_a)\n",
    "lista_b = np.array(lista_b)\n",
    "lista_c = np.array(lista_c)\n",
    "logposterior = np.array(logposterior)"
   ]
  },
  {
   "cell_type": "code",
   "execution_count": 95,
   "metadata": {},
   "outputs": [],
   "source": [
    "ua=-1\n",
    "ub=0\n",
    "uc=2\n",
    "sa=5\n",
    "sb=5\n",
    "sc=5"
   ]
  },
  {
   "cell_type": "code",
   "execution_count": 96,
   "metadata": {},
   "outputs": [],
   "source": [
    "def model(x,a,b,c):\n",
    "    return a*x**2 + b*x + c"
   ]
  },
  {
   "cell_type": "code",
   "execution_count": 150,
   "metadata": {},
   "outputs": [],
   "source": [
    "def leapfrog(qa,pa,qb,pb,qc,pc, delta_t=1E-8, niter=5):\n",
    "    qa_new = qa\n",
    "    pa_new = pa\n",
    "    qb_new = qb\n",
    "    pb_new = pb\n",
    "    qc_new = qc\n",
    "    pc_new = pc\n",
    "    \n",
    "    for i in range(niter):\n",
    "        pa_new = pa_new + 0.5 * delta_t * gradient_log_a(qa_new,qb_new,qc_new) #kick\n",
    "        qa_new = qa_new + delta_t * pa_new #drift\n",
    "        pa_new = pa_new + 0.5 * delta_t * gradient_log_a(qa_new,qb_new,qc_new) #kick\n",
    "        \n",
    "        pb_new = pb_new + 0.5 * delta_t * gradient_log_b(qa_new,qb_new,qc_new) #kick\n",
    "        qb_new = qb_new + delta_t * pb_new #drift\n",
    "        pb_new = pb_new + 0.5 * delta_t * gradient_log_b(qa_new,qb_new,qc_new) #kick\n",
    "    \n",
    "        pc_new = pc_new + 0.5 * delta_t * gradient_log_c(qa_new,qb_new,qc_new) #kick\n",
    "        qc_new = qc_new + delta_t * pc_new #drift\n",
    "        pc_new = pc_new + 0.5 * delta_t * gradient_log_c(qa_new,qb_new,qc_new) #kick\n",
    "    return qa_new, pa_new, qb_new, pb_new, qc_new, pc_new\n",
    "\n",
    "def gradient_log_a(qa,qb,qc):\n",
    "    return np.log(1/(sa*(2*np.pi)**0.5))*(qa-ua)/sa**2    - sum((y_obs-model(x_obs,qa,qb,qc))*(x_obs**2/sigma_y_obs**2))\n",
    "    \n",
    "def gradient_log_b(qa,qb,qc):\n",
    "    return np.log(1/(sa*(2*np.pi)**0.5))*(qa-ua)/sa**2 - sum((y_obs-model(x_obs,qa,qb,qc))*(x_obs/sigma_y_obs**2))\n",
    "\n",
    "def gradient_log_c(qa,qb,qc):\n",
    "    return np.log(1/(sa*(2*np.pi)**0.5))*(qa-ua)/sa**2 - sum((y_obs-model(x_obs,qa,qb,qc))*(1/sigma_y_obs**2))\n",
    "\n",
    "def log_gausiana(x,u,sigma):\n",
    "    return np.log(1/(sigma*(2*np.pi)**0.5))*(x-u)**2/(2*sigma**2)\n",
    "\n",
    "def log_likelyhood(a,b,c):\n",
    "    return -0.5*sum(y_obs - model(x_obs,a,b,c)/sigma_y_obs)\n",
    "    \n",
    "\n",
    "def H(qa,qb,qc,pa,pb,pc):\n",
    "    K = (pa**2+pb**2+pc**2)/2\n",
    "    U = -log_likelyhood(qa,qb,qc)-log_gausiana(qa,ua,sa)-log_gausiana(qb,ub,sb)-log_gausiana(qc,uc,sc)\n",
    "    return K + U\n",
    "\n",
    "    \n",
    "\n",
    "def MCMC(nsteps):\n",
    "    qa = np.zeros(nsteps)\n",
    "    pa = np.zeros(nsteps)\n",
    "    qb = np.zeros(nsteps)\n",
    "    pb = np.zeros(nsteps)\n",
    "    qc = np.zeros(nsteps)\n",
    "    pc = np.zeros(nsteps)\n",
    "    \n",
    "    \n",
    "    pa[0] = np.random.normal(0,1)\n",
    "    qa[0] = -1#np.random.normal(0,1)#np.random.normal(ua,sa)\n",
    "    pb[0] = np.random.normal(0,1)\n",
    "    qb[0] = 0.15#np.random.normal(0,1)#np.random.normal(ub,sb)\n",
    "    pc[0] = np.random.normal(0,1)\n",
    "    qc[0] = 3#np.random.normal(0,1)#np.random.normal(uc,sc)\n",
    "    \n",
    "    \n",
    "    for i in range(1,nsteps):\n",
    "        pa[i] = np.random.normal(0,1)*4\n",
    "        pb[i] = np.random.normal(0,1)*4\n",
    "        pc[i] = np.random.normal(0,1)*4\n",
    "                            \n",
    "#         qa_new, pa_new = leapfroga(qa[i-1],pa[i-1]) # la propuesta se hace con leapfrog\n",
    "#         qb_new, pb_new = leapfrogb(qb[i-1],pb[i-1]) # la propuesta se hace con leapfrog\n",
    "#         qc_new, pc_new = leapfrogc(qc[i-1],pc[i-1]) # la propuesta se hace con leapfrog\n",
    "        \n",
    "        qa_new, pa_new, qb_new, pb_new, qc_new, pc_new = leapfrog(qa[i-1],pa[i-1],qb[i-1],pb[i-1],qc[i-1],pc[i-1])\n",
    "                            \n",
    "        pa_new = -pa_new #negamos a p para que la propuesta sea simetrica.\n",
    "        pb_new = -pb_new #negamos a p para que la propuesta sea simetrica.\n",
    "        pc_new = -pc_new #negamos a p para que la propuesta sea simetrica.\n",
    "        \n",
    "#         E_new = H(q_new, p_new, sigma)# En lugar de evaluar la pdf se evalua la energia.\n",
    "        E_new = H(qa_new,qb_new,qc_new,pa_new,pb_new,pc_new)# En lugar de evaluar la pdf se evalua la energia.\n",
    "#         E_old = H(q[i-1], p[i-1], sigma)\n",
    "        E_old = H(qa[i-1],qb[i-1],qc[i-1], pa[i-1],pb[i-1],pc[i-1])\n",
    "        alpha = min(1.0,np.exp(-(E_new - E_old))) # Se comparan las dos energias\n",
    "        beta = np.random.random()\n",
    "#         print(np.exp(-(E_new - E_old)))\n",
    "        if beta < alpha:\n",
    "            qa[i] = qa_new\n",
    "            qb[i] = qb_new\n",
    "            qc[i] = qc_new\n",
    "        else:\n",
    "            qa[i] = qa[i-1]\n",
    "            qb[i] = qb[i-1]\n",
    "            qc[i] = qc[i-1]\n",
    "    return qa,qb,qc"
   ]
  },
  {
   "cell_type": "code",
   "execution_count": 151,
   "metadata": {},
   "outputs": [],
   "source": [
    "qa,qb,qc = MCMC(50000)"
   ]
  },
  {
   "cell_type": "code",
   "execution_count": 152,
   "metadata": {},
   "outputs": [
    {
     "data": {
      "text/plain": [
       "(array([ 1958.,  2774.,  3792.,  7716.,  3596.,  2311.,  9766., 10406.,\n",
       "         5651.,  2030.]),\n",
       " array([2.99998517, 2.99999129, 2.99999742, 3.00000354, 3.00000966,\n",
       "        3.00001579, 3.00002191, 3.00002803, 3.00003416, 3.00004028,\n",
       "        3.00004641]),\n",
       " <a list of 10 Patch objects>)"
      ]
     },
     "execution_count": 152,
     "metadata": {},
     "output_type": "execute_result"
    },
    {
     "data": {
      "image/png": "[encoded data removed]",
      "text/plain": [
       "<matplotlib.figure.Figure at 0x7f7de925bc88>"
      ]
     },
     "metadata": {},
     "output_type": "display_data"
    }
   ],
   "source": [
    "plt.hist(qc)"
   ]
  },
  {
   "cell_type": "code",
   "execution_count": 153,
   "metadata": {},
   "outputs": [],
   "source": [
    "param_a = np.mean(qa)\n",
    "param_b = np.mean(qb)\n",
    "param_c = np.mean(qc)"
   ]
  },
  {
   "cell_type": "code",
   "execution_count": 154,
   "metadata": {},
   "outputs": [
    {
     "data": {
      "image/png": "[encoded data removed]",
      "text/plain": [
       "<matplotlib.figure.Figure at 0x7f7de90a69b0>"
      ]
     },
     "metadata": {},
     "output_type": "display_data"
    }
   ],
   "source": [
    "x = np.array([-2.0,1.3,0.4,5.0,0.1, -4.7, 3.0, -3.5,-1.1])\n",
    "z = np.array([ -1.931,   2.38,   1.88,  -24.22,   3.31, -21.9,  -5.18, -12.23,   0.822])\n",
    "sigma_z = ([ 2.63,  6.23, -1.461, 1.376, -4.72,  1.313, -4.886, -1.091,  0.8054])\n",
    "xs = np.linspace(-5,5,100)\n",
    "ys = model(xs,param_a,param_b,param_c)\n",
    "plt.plot(xs,ys, label= r\"$y=ax^2+bx+c$\")\n",
    "plt.legend()\n",
    "plt.title(r\"$a={:.2f}\\ b={:.2f}\\ c={:.2f}$\".format(param_a,param_b,param_c))\n",
    "plt.errorbar(x, z, yerr=sigma_z, fmt='o')\n",
    "plt.savefig(\"results.pdf\")"
   ]
  },
  {
   "cell_type": "code",
   "execution_count": null,
   "metadata": {},
   "outputs": [],
   "source": []
  },
  {
   "cell_type": "code",
   "execution_count": null,
   "metadata": {},
   "outputs": [],
   "source": []
  }
 ],
 "metadata": {
  "kernelspec": {
   "display_name": "Python 3",
   "language": "python",
   "name": "python3"
  },
  "language_info": {
   "codemirror_mode": {
    "name": "ipython",
    "version": 3
   },
   "file_extension": ".py",
   "mimetype": "text/x-python",
   "name": "python",
   "nbconvert_exporter": "python",
   "pygments_lexer": "ipython3",
   "version": "3.6.4"
  }
 },
 "nbformat": 4,
 "nbformat_minor": 2
}
